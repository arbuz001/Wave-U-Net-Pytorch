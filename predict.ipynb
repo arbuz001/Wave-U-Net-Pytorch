{
 "cells": [
  {
   "cell_type": "code",
   "execution_count": 1,
   "id": "4962ddc1-9ee5-4e23-afba-4baa08490c80",
   "metadata": {
    "tags": []
   },
   "outputs": [],
   "source": [
    "import argparse\n",
    "import os\n",
    "from pathlib import Path\n",
    "from os import environ as env\n",
    "import data.utils\n",
    "import model.utils as model_utils\n",
    "from model.waveunet import Waveunet\n",
    "from test import predict_song"
   ]
  },
  {
   "cell_type": "code",
   "execution_count": 2,
   "id": "b1058462-0a4f-481a-ba9c-93dff394c49e",
   "metadata": {
    "tags": []
   },
   "outputs": [],
   "source": [
    "# load env variables\n",
    "%load_ext dotenv\n",
    "%dotenv -o -v ./config/config.yml\n",
    "# %reload_ext dotenv"
   ]
  },
  {
   "cell_type": "code",
   "execution_count": 3,
   "id": "082b8991-653c-4f45-a9d6-168fe67a7c03",
   "metadata": {
    "tags": []
   },
   "outputs": [],
   "source": [
    "def main(args):\n",
    "    # MODEL\n",
    "    num_features = [args.features * i for i in range(1, args.levels + 1)] if args.feature_growth == \"add\" else \\\n",
    "        [args.features * 2 ** i for i in range(0, args.levels)]\n",
    "    target_outputs = int(args.output_size * args.sr)\n",
    "    model = Waveunet(args.channels, num_features, args.channels, args.instruments, kernel_size=args.kernel_size,\n",
    "                     target_output_size=target_outputs, depth=args.depth, strides=args.strides,\n",
    "                     conv_type=args.conv_type, res=args.res, separate=args.separate)\n",
    "\n",
    "    if args.cuda:\n",
    "        model = model_utils.DataParallel(model)\n",
    "        print(\"move model to gpu\")\n",
    "        model.cuda()\n",
    "\n",
    "    print(\"Loading model from checkpoint \" + str(args.load_model))\n",
    "    state = model_utils.load_model(model, None, args.load_model, args.cuda)\n",
    "    print('Step', state['step'])\n",
    "\n",
    "    args_input = args.input\n",
    "    if args_input.split(\"/\")[-1].endswith(\"mixture.wav\"):\n",
    "        preds = predict_song(args, args_input, model)\n",
    "        output_folder = os.path.dirname(args_input) if args.output is None else args.output\n",
    "        for inst in preds.keys():\n",
    "            data.utils.write_wav(os.path.join(output_folder, os.path.basename(args_input) + \"_\" + inst + \".wav\"),\n",
    "                                 preds[inst], args.sr)\n",
    "    else:\n",
    "        walker = sorted(str(p) for p in Path(args_input).rglob(\"*/mixture.wav\"))\n",
    "        for args_input in walker:\n",
    "            print(args_input)\n",
    "            preds = predict_song(args, args_input, model)\n",
    "            output_folder = os.path.dirname(args_input) if args.output is None else args.output\n",
    "            for inst in preds.keys():\n",
    "                data.utils.write_wav(os.path.join(output_folder, os.path.basename(args_input) + \"_\" + inst + \".wav\"),\n",
    "                                     preds[inst], args.sr)\n"
   ]
  },
  {
   "cell_type": "code",
   "execution_count": 4,
   "id": "fc43a0ba-9114-4fc5-8905-1a895861aa8b",
   "metadata": {
    "tags": []
   },
   "outputs": [],
   "source": [
    "parser = argparse.ArgumentParser()\n",
    "parser.add_argument('--instruments', type=str, nargs='+', default=[\"other\", \"Ru-106\"],\n",
    "                    help=\"List of instruments to separate (default: \\\"Ru-106 Co-60 other\\\")\")\n",
    "parser.add_argument('--cuda', action='store_true',\n",
    "                    help='Use CUDA (default: False)')\n",
    "parser.add_argument('--features', type=int, default=int(env['FEATURES']),\n",
    "                    help='Number of feature channels per layer')\n",
    "parser.add_argument('--load_model', type=str, default=str(env['LOAD_MODEL']),\n",
    "                    help='Reload a previously trained model')\n",
    "parser.add_argument('--batch_size', type=int, default=int(env['BATCH_SIZE']),\n",
    "                    help=\"Batch size\")\n",
    "parser.add_argument('--levels', type=int, default=6,\n",
    "                    help=\"Number of DS/US blocks\")\n",
    "parser.add_argument('--depth', type=int, default=int(env['DEPTH']),\n",
    "                    help=\"Number of convs per block\")\n",
    "parser.add_argument('--sr', type=int, default=int(env['SR']), help=\"Sampling rate\")\n",
    "parser.add_argument('--channels', type=int, default=int(env['CHANNELS']), help=\"Number of input audio channels\")\n",
    "parser.add_argument('--kernel_size', type=int, default=int(env['KERNEL_SIZE']),\n",
    "                    help=\"Filter width of kernels. Has to be an odd number\")\n",
    "parser.add_argument('--output_size', type=float, default=float(env['OUTPUT_SIZE']),\n",
    "                    help=\"Output duration\")\n",
    "parser.add_argument('--strides', type=int, default=int(env['STRIDES']),\n",
    "                    help=\"Strides in Waveunet\")\n",
    "parser.add_argument('--conv_type', type=str, default=str(env['CONV_TYPE']),\n",
    "                    help=\"Type of convolution (normal, BN-normalised, GN-normalised): normal/bn/gn\")\n",
    "parser.add_argument('--res', type=str, default=str(env['RES']),\n",
    "                    help=\"Resampling strategy: fixed sinc-based lowpass filtering or learned conv layer: fixed/learned\")\n",
    "parser.add_argument('--separate', type=int, default=int(env['SEPARATE']),\n",
    "                    help=\"Train separate model for each source (1) or only one (0)\")\n",
    "parser.add_argument('--feature_growth', type=str, default=str(env['FEATURE_GROWTH']),\n",
    "                    help=\"How the features in each layer should grow, either (add) the initial number of features each time, or multiply by 2 (double)\")\n",
    "parser.add_argument('--input', type=str, default=str(env['INPUT']),\n",
    "                    help=\"Path to input mixture to be separated\")\n",
    "parser.add_argument('--output', type=str, default=str(env['OUTPUT']),\n",
    "                    help=\"Output path (same folder as input path if not set)\")\n",
    "args = parser.parse_args(\"--cuda\".split())"
   ]
  },
  {
   "cell_type": "code",
   "execution_count": 5,
   "id": "05d20539-ae61-4ec0-840e-38283091ca8b",
   "metadata": {
    "tags": []
   },
   "outputs": [
    {
     "name": "stdout",
     "output_type": "stream",
     "text": [
      "Using valid convolutions with 21161 inputs and 11609 outputs\n",
      "move model to gpu\n",
      "Loading model from checkpoint /home/aarbuzov/work-and-study/git/Wave-U-Net-Pytorch/checkpoints/checkpoint_30200\n",
      "Step 30200\n",
      "done\n"
     ]
    }
   ],
   "source": [
    "main(args)\n",
    "print(\"done\")"
   ]
  },
  {
   "cell_type": "code",
   "execution_count": null,
   "id": "305ec213-6085-4a58-b51a-0f09138593d2",
   "metadata": {},
   "outputs": [],
   "source": []
  }
 ],
 "metadata": {
  "kernelspec": {
   "display_name": "Python 3 (ipykernel)",
   "language": "python",
   "name": "python3"
  },
  "language_info": {
   "codemirror_mode": {
    "name": "ipython",
    "version": 3
   },
   "file_extension": ".py",
   "mimetype": "text/x-python",
   "name": "python",
   "nbconvert_exporter": "python",
   "pygments_lexer": "ipython3",
   "version": "3.10.9"
  }
 },
 "nbformat": 4,
 "nbformat_minor": 5
}
