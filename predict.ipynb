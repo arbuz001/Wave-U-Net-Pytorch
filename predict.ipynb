{
 "cells": [
  {
   "cell_type": "code",
   "execution_count": 1,
   "id": "4962ddc1-9ee5-4e23-afba-4baa08490c80",
   "metadata": {
    "tags": []
   },
   "outputs": [],
   "source": [
    "import argparse\n",
    "import os\n",
    "from pathlib import Path\n",
    "from os import environ as env\n",
    "import data.utils\n",
    "import model.utils as model_utils\n",
    "from model.waveunet import Waveunet\n",
    "from test import predict_song"
   ]
  },
  {
   "cell_type": "code",
   "execution_count": null,
   "id": "e28b13e1-94ef-4ced-8e1d-fb291ff809b6",
   "metadata": {
    "tags": []
   },
   "outputs": [],
   "source": [
    "%reload_ext dotenv"
   ]
  },
  {
   "cell_type": "code",
   "execution_count": 2,
   "id": "b1058462-0a4f-481a-ba9c-93dff394c49e",
   "metadata": {
    "tags": []
   },
   "outputs": [],
   "source": [
    "# load env variables\n",
    "%load_ext dotenv\n",
    "%dotenv -o -v ./config/config.yml\n",
    "# %reload_ext dotenv"
   ]
  },
  {
   "cell_type": "code",
   "execution_count": 3,
   "id": "856cdf5f-6ccd-49da-a8f9-c3e6e8af1098",
   "metadata": {
    "tags": []
   },
   "outputs": [],
   "source": [
    "def environ_or_required(key):\n",
    "    return (\n",
    "        {'default': os.environ.get(key)} if os.environ.get(key)\n",
    "        else {'required': True}\n",
    "    )"
   ]
  },
  {
   "cell_type": "code",
   "execution_count": null,
   "id": "5bb78765-3b8d-4325-8d6d-3bae458e2e8e",
   "metadata": {
    "tags": []
   },
   "outputs": [],
   "source": [
    "parser = argparse.ArgumentParser()\n",
    "# parser.add_argument('--spectra_set', **environ_or_required('SPECTRA_SET'))\n",
    "parser.add_argument('--sr', type=int, **environ_or_required('SR'),help=\"Sampling rate\")\n",
    "    "
   ]
  },
  {
   "cell_type": "code",
   "execution_count": 5,
   "id": "1c0c731d-cae5-4cab-95e2-7b6ee7cbdb8a",
   "metadata": {
    "tags": []
   },
   "outputs": [
    {
     "data": {
      "text/plain": [
       "_StoreAction(option_strings=['--channels'], dest='channels', nargs=None, const=None, default='1', type=<class 'int'>, choices=None, required=False, help='Sampling rate', metavar=None)"
      ]
     },
     "execution_count": 5,
     "metadata": {},
     "output_type": "execute_result"
    }
   ],
   "source": [
    "parser = argparse.ArgumentParser()\n",
    "parser.add_argument('--channels', type=int, **environ_or_required('CHANNELS'),help=\"Sampling rate\")"
   ]
  }
 ],
 "metadata": {
  "kernelspec": {
   "display_name": "Python 3 (ipykernel)",
   "language": "python",
   "name": "python3"
  },
  "language_info": {
   "codemirror_mode": {
    "name": "ipython",
    "version": 3
   },
   "file_extension": ".py",
   "mimetype": "text/x-python",
   "name": "python",
   "nbconvert_exporter": "python",
   "pygments_lexer": "ipython3",
   "version": "3.10.9"
  }
 },
 "nbformat": 4,
 "nbformat_minor": 5
}
