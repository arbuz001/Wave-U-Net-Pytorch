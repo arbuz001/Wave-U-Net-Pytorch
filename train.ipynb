{
 "cells": [
  {
   "cell_type": "code",
   "execution_count": 1,
   "id": "4962ddc1-9ee5-4e23-afba-4baa08490c80",
   "metadata": {
    "tags": []
   },
   "outputs": [],
   "source": [
    "import argparse\n",
    "import os\n",
    "import pickle\n",
    "import time\n",
    "from functools import partial\n",
    "\n",
    "import numpy as np\n",
    "import torch\n",
    "import torch.nn as nn\n",
    "from torch.optim import Adam\n",
    "from torch.utils.tensorboard import SummaryWriter\n",
    "from tqdm import tqdm\n",
    "\n",
    "import model.utils as model_utils\n",
    "import utils\n",
    "from data.dataset import SeparationDataset\n",
    "from data.musdb import get_musdb_folds\n",
    "from data.utils import crop_targets, random_amplify\n",
    "from model.waveunet import Waveunet\n",
    "from test import evaluate, validate\n",
    "from os import environ as env"
   ]
  },
  {
   "cell_type": "code",
   "execution_count": 2,
   "id": "b1058462-0a4f-481a-ba9c-93dff394c49e",
   "metadata": {
    "tags": []
   },
   "outputs": [],
   "source": [
    "# load env variables\n",
    "%load_ext dotenv\n",
    "%dotenv -o -v ./config/config_train.yml\n",
    "# %reload_ext dotenv"
   ]
  },
  {
   "cell_type": "code",
   "execution_count": 3,
   "id": "30552b87-7c2a-468e-98b0-db5a2eaa4c44",
   "metadata": {
    "tags": []
   },
   "outputs": [],
   "source": [
    "def main(args):\n",
    "    # torch.backends.cudnn.benchmark=True # This makes dilated conv much faster for CuDNN 7.5\n",
    "\n",
    "    # MODEL\n",
    "    num_features = [args.features * i for i in range(1, args.levels + 1)] if args.feature_growth == \"add\" else \\\n",
    "        [args.features * 2 ** i for i in range(0, args.levels)]\n",
    "    target_outputs = int(args.output_size * args.sr)\n",
    "    model = Waveunet(args.channels, num_features, args.channels, args.instruments, kernel_size=args.kernel_size,\n",
    "                     target_output_size=target_outputs, depth=args.depth, strides=args.strides,\n",
    "                     conv_type=args.conv_type, res=args.res, separate=args.separate)\n",
    "\n",
    "    if args.cuda:\n",
    "        model = model_utils.DataParallel(model)\n",
    "        print(\"move model to gpu\")\n",
    "        model.cuda()\n",
    "\n",
    "    print('model: ', model)\n",
    "    print('parameter count: ', str(sum(p.numel() for p in model.parameters())))\n",
    "\n",
    "    writer = SummaryWriter(args.log_dir)\n",
    "\n",
    "    ### DATASET\n",
    "    musdb = get_musdb_folds(args.dataset_dir)\n",
    "    # If not data augmentation, at least crop targets to fit model output shape\n",
    "    crop_func = partial(crop_targets, shapes=model.shapes)\n",
    "    # Data augmentation function for training\n",
    "    augment_func = partial(random_amplify, shapes=model.shapes, min=0.7, max=1.0)\n",
    "    train_data = SeparationDataset(musdb, \"train\", args.instruments, args.sr, args.channels, model.shapes, True,\n",
    "                                   args.hdf_dir, audio_transform=augment_func)\n",
    "    val_data = SeparationDataset(musdb, \"val\", args.instruments, args.sr, args.channels, model.shapes, False,\n",
    "                                 args.hdf_dir, audio_transform=crop_func)\n",
    "    test_data = SeparationDataset(musdb, \"test\", args.instruments, args.sr, args.channels, model.shapes, False,\n",
    "                                  args.hdf_dir, audio_transform=crop_func)\n",
    "\n",
    "    dataloader = torch.utils.data.DataLoader(train_data, batch_size=args.batch_size, shuffle=True,\n",
    "                                             num_workers=args.num_workers, worker_init_fn=utils.worker_init_fn)\n",
    "\n",
    "    ##### TRAINING ####\n",
    "\n",
    "    # Set up the loss function\n",
    "    if args.loss == \"L1\":\n",
    "        criterion = nn.L1Loss()\n",
    "    elif args.loss == \"L2\":\n",
    "        criterion = nn.MSELoss()\n",
    "    else:\n",
    "        raise NotImplementedError(\"Couldn't find this loss!\")\n",
    "\n",
    "    # Set up optimiser\n",
    "    optimizer = Adam(params=model.parameters(), lr=args.lr)\n",
    "\n",
    "    # Set up training state dict that will also be saved into checkpoints\n",
    "    state = {\"step\": 0,\n",
    "             \"worse_epochs\": 0,\n",
    "             \"epochs\": 0,\n",
    "             \"best_loss\": np.Inf}\n",
    "\n",
    "    # LOAD MODEL CHECKPOINT IF DESIRED\n",
    "    if args.load_model is not None:\n",
    "        print(\"Continuing training full model from checkpoint \" + str(args.load_model))\n",
    "        state = model_utils.load_model(model, optimizer, args.load_model, args.cuda)\n",
    "\n",
    "    print('TRAINING START')\n",
    "\n",
    "    while state[\"worse_epochs\"] < args.patience:\n",
    "        print(\"Training one epoch from iteration \" + str(state[\"step\"]))\n",
    "        avg_time = 0.\n",
    "        model.train()\n",
    "        with tqdm(total=len(train_data) // args.batch_size) as pbar:\n",
    "            np.random.seed()\n",
    "            for example_num, (x, targets) in enumerate(dataloader):\n",
    "                if args.cuda:\n",
    "                    x = x.cuda()\n",
    "                    for k in list(targets.keys()):\n",
    "                        targets[k] = targets[k].cuda()\n",
    "\n",
    "                t = time.time()\n",
    "\n",
    "                # Set LR for this iteration\n",
    "                utils.set_cyclic_lr(optimizer, example_num, len(train_data) // args.batch_size, args.cycles,\n",
    "                                    args.min_lr, args.lr)\n",
    "                writer.add_scalar(\"lr\", utils.get_lr(optimizer), state[\"step\"])\n",
    "\n",
    "                # Compute loss for each instrument/model\n",
    "                optimizer.zero_grad()\n",
    "                outputs, avg_loss = model_utils.compute_loss(model, x, targets, criterion, compute_grad=True)\n",
    "\n",
    "                optimizer.step()\n",
    "\n",
    "                state[\"step\"] += 1\n",
    "\n",
    "                t = time.time() - t\n",
    "                avg_time += (1. / float(example_num + 1)) * (t - avg_time)\n",
    "\n",
    "                writer.add_scalar(\"train_loss\", avg_loss, state[\"step\"])\n",
    "\n",
    "                if example_num % args.example_freq == 0 and args.save_audio_to_logs:\n",
    "                    input_centre = torch.mean(\n",
    "                        x[0, :, model.shapes[\"output_start_frame\"]:model.shapes[\"output_end_frame\"]],\n",
    "                        0)  # Stereo not supported for logs yet\n",
    "                    writer.add_audio(\"input\", input_centre, state[\"step\"], sample_rate=args.sr)\n",
    "\n",
    "                    for inst in outputs.keys():\n",
    "                        writer.add_audio(inst + \"_pred\", torch.mean(outputs[inst][0], 0), state[\"step\"],\n",
    "                                         sample_rate=args.sr)\n",
    "                        writer.add_audio(inst + \"_target\", torch.mean(targets[inst][0], 0), state[\"step\"],\n",
    "                                         sample_rate=args.sr)\n",
    "\n",
    "                pbar.update(1)\n",
    "\n",
    "        # VALIDATE\n",
    "        val_loss = validate(args, model, criterion, val_data)\n",
    "        print(\"VALIDATION FINISHED: LOSS: \" + str(val_loss))\n",
    "        writer.add_scalar(\"val_loss\", val_loss, state[\"step\"])\n",
    "\n",
    "        # EARLY STOPPING CHECK\n",
    "        checkpoint_path_previous = None\n",
    "        try:\n",
    "            checkpoint_path_previous = state[\"best_checkpoint\"]\n",
    "        except:\n",
    "            print(f\"No 'best_checkpoint' yet\")\n",
    "        \n",
    "        checkpoint_path = os.path.join(args.checkpoint_dir, \"checkpoint_\" + str(state[\"step\"]))            \n",
    "        if val_loss >= state[\"best_loss\"]:\n",
    "            state[\"worse_epochs\"] += 1\n",
    "        else:\n",
    "            print(\"MODEL IMPROVED ON VALIDATION SET!\")\n",
    "          \n",
    "            state[\"worse_epochs\"] = 0\n",
    "            state[\"best_loss\"] = val_loss\n",
    "            state[\"best_checkpoint\"] = checkpoint_path\n",
    "            \n",
    "        state[\"epochs\"] += 1\n",
    "        n_down_sampling = 1\n",
    "        if state[\"epochs\"] % n_down_sampling == 0:\n",
    "            try:\n",
    "                if os.path.exists(checkpoint_path_previous):\n",
    "                    print(f\"Removing old file {checkpoint_path_previous}\")\n",
    "                    os.remove(checkpoint_path_previous)\n",
    "            except:\n",
    "                print(f\"No '{checkpoint_path_previous}' file found!\")           \n",
    "            \n",
    "            # CHECKPOINT\n",
    "            print(\"Saving model...\")\n",
    "            model_utils.save_model(model, optimizer, state, checkpoint_path)\n",
    "            \n",
    "#     #### TESTING ####\n",
    "#     # Test loss\n",
    "#     print(\"TESTING\")\n",
    "\n",
    "#     # Load best model based on validation loss\n",
    "#     state = model_utils.load_model(model, None, state[\"best_checkpoint\"], args.cuda)\n",
    "#     test_loss = validate(args, model, criterion, test_data)\n",
    "#     print(\"TEST FINISHED: LOSS: \" + str(test_loss))\n",
    "#     writer.add_scalar(\"test_loss\", test_loss, state[\"step\"])\n",
    "\n",
    "#     # Mir_eval metrics\n",
    "#     test_metrics = evaluate(args, musdb[\"test\"], model, args.instruments)\n",
    "\n",
    "#     # Dump all metrics results into pickle file for later analysis if needed\n",
    "#     with open(os.path.join(args.checkpoint_dir, \"results.pkl\"), \"wb\") as f:\n",
    "#         pickle.dump(test_metrics, f)\n",
    "\n",
    "#     # Write most important metrics into Tensorboard log\n",
    "#     avg_SDRs = {inst: np.mean([np.nanmean(song[inst][\"SDR\"]) for song in test_metrics]) for inst in args.instruments}\n",
    "#     avg_SIRs = {inst: np.mean([np.nanmean(song[inst][\"SIR\"]) for song in test_metrics]) for inst in args.instruments}\n",
    "#     for inst in args.instruments:\n",
    "#         writer.add_scalar(\"test_SDR_\" + inst, avg_SDRs[inst], state[\"step\"])\n",
    "#         writer.add_scalar(\"test_SIR_\" + inst, avg_SIRs[inst], state[\"step\"])\n",
    "#     overall_SDR = np.mean([v for v in avg_SDRs.values()])\n",
    "#     writer.add_scalar(\"test_SDR\", overall_SDR)\n",
    "#     print(\"SDR: \" + str(overall_SDR))\n",
    "\n",
    "    writer.close()    "
   ]
  },
  {
   "cell_type": "code",
   "execution_count": 4,
   "id": "fc43a0ba-9114-4fc5-8905-1a895861aa8b",
   "metadata": {
    "tags": []
   },
   "outputs": [],
   "source": [
    "parser = argparse.ArgumentParser()\n",
    "\n",
    "parser.add_argument('--instruments', type=str, nargs='+', default=[\"other\", \"Eu-152\"],\n",
    "                    help=\"List of instruments to separate (default: \\\"Ru-106 Co-60 other\\\")\")\n",
    "parser.add_argument('--cuda', action='store_true',\n",
    "                    help='Use CUDA (default: False)')\n",
    "parser.add_argument('--features', type=int, default=int(env['FEATURES']),\n",
    "                    help='Number of feature channels per layer')\n",
    "parser.add_argument('--load_model', type=str, default = None if env['LOAD_MODEL'] == 'None' else env['LOAD_MODEL'],\n",
    "                    help='Reload a previously trained model')\n",
    "parser.add_argument('--batch_size', type=int, default=int(env['BATCH_SIZE']),\n",
    "                    help=\"Batch size\")\n",
    "parser.add_argument('--levels', type=int, default=6,\n",
    "                    help=\"Number of DS/US blocks\")\n",
    "parser.add_argument('--depth', type=int, default=int(env['DEPTH']),\n",
    "                    help=\"Number of convs per block\")\n",
    "parser.add_argument('--sr', type=int, default=int(env['SR']), help=\"Sampling rate\")\n",
    "parser.add_argument('--channels', type=int, default=int(env['CHANNELS']), help=\"Number of input audio channels\")\n",
    "parser.add_argument('--kernel_size', type=int, default=int(env['KERNEL_SIZE']),\n",
    "                    help=\"Filter width of kernels. Has to be an odd number\")\n",
    "parser.add_argument('--output_size', type=float, default=float(env['OUTPUT_SIZE']),\n",
    "                    help=\"Output duration\")\n",
    "parser.add_argument('--strides', type=int, default=int(env['STRIDES']),\n",
    "                    help=\"Strides in Waveunet\")\n",
    "parser.add_argument('--conv_type', type=str, default=str(env['CONV_TYPE']),\n",
    "                    help=\"Type of convolution (normal, BN-normalised, GN-normalised): normal/bn/gn\")\n",
    "parser.add_argument('--res', type=str, default=str(env['RES']),\n",
    "                    help=\"Resampling strategy: fixed sinc-based lowpass filtering or learned conv layer: fixed/learned\")\n",
    "parser.add_argument('--separate', type=int, default=int(env['SEPARATE']),\n",
    "                    help=\"Train separate model for each source (1) or only one (0)\")\n",
    "parser.add_argument('--feature_growth', type=str, default=str(env['FEATURE_GROWTH']),\n",
    "                    help=\"How the features in each layer should grow, either (add) the initial number of features each time, or multiply by 2 (double)\")\n",
    "parser.add_argument('--output', type=str, default = None if env['OUTPUT'] == 'None' else env['OUTPUT'], help=\"Output path (same folder as input path if not set)\")\n",
    "parser.add_argument('--num_workers', type=int, default=int(env['NUM_WORKERS']),\n",
    "                    help='Number of data loader worker threads (default: 1)')\n",
    "parser.add_argument('--log_dir', type=str, default=str(env['LOG_DIR']),\n",
    "                    help='Folder to write logs into')\n",
    "parser.add_argument('--dataset_dir', type=str, default = str(env['DATASET_DIR']),\n",
    "                    help='Dataset path')\n",
    "parser.add_argument('--hdf_dir', type=str, default=str(env['HDF_DIR']),\n",
    "                    help='Dataset path')\n",
    "parser.add_argument('--checkpoint_dir', type=str, default = str(env['CHECKPOINT_DIR']),\n",
    "                    help='Folder to write checkpoints into')\n",
    "parser.add_argument('--lr', type=float, default=float(env['LR']),\n",
    "                    help='Initial learning rate in LR cycle (default: 1e-3)')\n",
    "parser.add_argument('--min_lr', type=float, default=float(env['MIN_LR']),\n",
    "                    help='Minimum learning rate in LR cycle (default: 5e-5)')\n",
    "parser.add_argument('--cycles', type=int, default=int(env['CYCLES']),\n",
    "                    help='Number of LR cycles per epoch')\n",
    "parser.add_argument('--patience', type=int, default=int(env['PATIENCE']),\n",
    "                    help=\"Patience for early stopping on validation set\")\n",
    "parser.add_argument('--example_freq', type=int, default=int(env['EXAMPLE_FREQ']),\n",
    "                    help=\"Write an audio summary into Tensorboard logs every X training iterations\")\n",
    "parser.add_argument('--loss', type=str, default=str(env['LOSS']),\n",
    "                    help=\"L1 or L2\")\n",
    "parser.add_argument('--save_audio_to_logs', type=bool, default=False,\n",
    "                    help=\"Whether to add output with audio samples from training to log in tensorboard (True) or (False)\")\n",
    "\n",
    "args = parser.parse_args(\"--cuda\".split())"
   ]
  },
  {
   "cell_type": "code",
   "execution_count": null,
   "id": "05d20539-ae61-4ec0-840e-38283091ca8b",
   "metadata": {
    "tags": []
   },
   "outputs": [
    {
     "name": "stdout",
     "output_type": "stream",
     "text": [
      "Using valid convolutions with 21161 inputs and 11609 outputs\n",
      "move model to gpu\n",
      "model:  DataParallel(\n",
      "  (module): Waveunet(\n",
      "    (waveunets): ModuleDict(\n",
      "      (other): Module(\n",
      "        (downsampling_blocks): ModuleList(\n",
      "          (0): DownsamplingBlock(\n",
      "            (pre_shortcut_convs): ModuleList(\n",
      "              (0): ConvLayer(\n",
      "                (filter): Conv1d(1, 32, kernel_size=(5,), stride=(1,))\n",
      "                (norm): GroupNorm(4, 32, eps=1e-05, affine=True)\n",
      "              )\n",
      "            )\n",
      "            (post_shortcut_convs): ModuleList(\n",
      "              (0): ConvLayer(\n",
      "                (filter): Conv1d(32, 64, kernel_size=(5,), stride=(1,))\n",
      "                (norm): GroupNorm(8, 64, eps=1e-05, affine=True)\n",
      "              )\n",
      "            )\n",
      "            (downconv): Resample1d()\n",
      "          )\n",
      "          (1): DownsamplingBlock(\n",
      "            (pre_shortcut_convs): ModuleList(\n",
      "              (0): ConvLayer(\n",
      "                (filter): Conv1d(64, 64, kernel_size=(5,), stride=(1,))\n",
      "                (norm): GroupNorm(8, 64, eps=1e-05, affine=True)\n",
      "              )\n",
      "            )\n",
      "            (post_shortcut_convs): ModuleList(\n",
      "              (0): ConvLayer(\n",
      "                (filter): Conv1d(64, 128, kernel_size=(5,), stride=(1,))\n",
      "                (norm): GroupNorm(16, 128, eps=1e-05, affine=True)\n",
      "              )\n",
      "            )\n",
      "            (downconv): Resample1d()\n",
      "          )\n",
      "          (2): DownsamplingBlock(\n",
      "            (pre_shortcut_convs): ModuleList(\n",
      "              (0): ConvLayer(\n",
      "                (filter): Conv1d(128, 128, kernel_size=(5,), stride=(1,))\n",
      "                (norm): GroupNorm(16, 128, eps=1e-05, affine=True)\n",
      "              )\n",
      "            )\n",
      "            (post_shortcut_convs): ModuleList(\n",
      "              (0): ConvLayer(\n",
      "                (filter): Conv1d(128, 256, kernel_size=(5,), stride=(1,))\n",
      "                (norm): GroupNorm(32, 256, eps=1e-05, affine=True)\n",
      "              )\n",
      "            )\n",
      "            (downconv): Resample1d()\n",
      "          )\n",
      "          (3): DownsamplingBlock(\n",
      "            (pre_shortcut_convs): ModuleList(\n",
      "              (0): ConvLayer(\n",
      "                (filter): Conv1d(256, 256, kernel_size=(5,), stride=(1,))\n",
      "                (norm): GroupNorm(32, 256, eps=1e-05, affine=True)\n",
      "              )\n",
      "            )\n",
      "            (post_shortcut_convs): ModuleList(\n",
      "              (0): ConvLayer(\n",
      "                (filter): Conv1d(256, 512, kernel_size=(5,), stride=(1,))\n",
      "                (norm): GroupNorm(64, 512, eps=1e-05, affine=True)\n",
      "              )\n",
      "            )\n",
      "            (downconv): Resample1d()\n",
      "          )\n",
      "          (4): DownsamplingBlock(\n",
      "            (pre_shortcut_convs): ModuleList(\n",
      "              (0): ConvLayer(\n",
      "                (filter): Conv1d(512, 512, kernel_size=(5,), stride=(1,))\n",
      "                (norm): GroupNorm(64, 512, eps=1e-05, affine=True)\n",
      "              )\n",
      "            )\n",
      "            (post_shortcut_convs): ModuleList(\n",
      "              (0): ConvLayer(\n",
      "                (filter): Conv1d(512, 1024, kernel_size=(5,), stride=(1,))\n",
      "                (norm): GroupNorm(128, 1024, eps=1e-05, affine=True)\n",
      "              )\n",
      "            )\n",
      "            (downconv): Resample1d()\n",
      "          )\n",
      "        )\n",
      "        (upsampling_blocks): ModuleList(\n",
      "          (0): UpsamplingBlock(\n",
      "            (upconv): Resample1d()\n",
      "            (pre_shortcut_convs): ModuleList(\n",
      "              (0): ConvLayer(\n",
      "                (filter): Conv1d(1024, 512, kernel_size=(5,), stride=(1,))\n",
      "                (norm): GroupNorm(64, 512, eps=1e-05, affine=True)\n",
      "              )\n",
      "            )\n",
      "            (post_shortcut_convs): ModuleList(\n",
      "              (0): ConvLayer(\n",
      "                (filter): Conv1d(1024, 512, kernel_size=(5,), stride=(1,))\n",
      "                (norm): GroupNorm(64, 512, eps=1e-05, affine=True)\n",
      "              )\n",
      "            )\n",
      "          )\n",
      "          (1): UpsamplingBlock(\n",
      "            (upconv): Resample1d()\n",
      "            (pre_shortcut_convs): ModuleList(\n",
      "              (0): ConvLayer(\n",
      "                (filter): Conv1d(512, 256, kernel_size=(5,), stride=(1,))\n",
      "                (norm): GroupNorm(32, 256, eps=1e-05, affine=True)\n",
      "              )\n",
      "            )\n",
      "            (post_shortcut_convs): ModuleList(\n",
      "              (0): ConvLayer(\n",
      "                (filter): Conv1d(512, 256, kernel_size=(5,), stride=(1,))\n",
      "                (norm): GroupNorm(32, 256, eps=1e-05, affine=True)\n",
      "              )\n",
      "            )\n",
      "          )\n",
      "          (2): UpsamplingBlock(\n",
      "            (upconv): Resample1d()\n",
      "            (pre_shortcut_convs): ModuleList(\n",
      "              (0): ConvLayer(\n",
      "                (filter): Conv1d(256, 128, kernel_size=(5,), stride=(1,))\n",
      "                (norm): GroupNorm(16, 128, eps=1e-05, affine=True)\n",
      "              )\n",
      "            )\n",
      "            (post_shortcut_convs): ModuleList(\n",
      "              (0): ConvLayer(\n",
      "                (filter): Conv1d(256, 128, kernel_size=(5,), stride=(1,))\n",
      "                (norm): GroupNorm(16, 128, eps=1e-05, affine=True)\n",
      "              )\n",
      "            )\n",
      "          )\n",
      "          (3): UpsamplingBlock(\n",
      "            (upconv): Resample1d()\n",
      "            (pre_shortcut_convs): ModuleList(\n",
      "              (0): ConvLayer(\n",
      "                (filter): Conv1d(128, 64, kernel_size=(5,), stride=(1,))\n",
      "                (norm): GroupNorm(8, 64, eps=1e-05, affine=True)\n",
      "              )\n",
      "            )\n",
      "            (post_shortcut_convs): ModuleList(\n",
      "              (0): ConvLayer(\n",
      "                (filter): Conv1d(128, 64, kernel_size=(5,), stride=(1,))\n",
      "                (norm): GroupNorm(8, 64, eps=1e-05, affine=True)\n",
      "              )\n",
      "            )\n",
      "          )\n",
      "          (4): UpsamplingBlock(\n",
      "            (upconv): Resample1d()\n",
      "            (pre_shortcut_convs): ModuleList(\n",
      "              (0): ConvLayer(\n",
      "                (filter): Conv1d(64, 32, kernel_size=(5,), stride=(1,))\n",
      "                (norm): GroupNorm(4, 32, eps=1e-05, affine=True)\n",
      "              )\n",
      "            )\n",
      "            (post_shortcut_convs): ModuleList(\n",
      "              (0): ConvLayer(\n",
      "                (filter): Conv1d(64, 32, kernel_size=(5,), stride=(1,))\n",
      "                (norm): GroupNorm(4, 32, eps=1e-05, affine=True)\n",
      "              )\n",
      "            )\n",
      "          )\n",
      "        )\n",
      "        (bottlenecks): ModuleList(\n",
      "          (0): ConvLayer(\n",
      "            (filter): Conv1d(1024, 1024, kernel_size=(5,), stride=(1,))\n",
      "            (norm): GroupNorm(128, 1024, eps=1e-05, affine=True)\n",
      "          )\n",
      "        )\n",
      "        (output_conv): Conv1d(32, 1, kernel_size=(1,), stride=(1,))\n",
      "      )\n",
      "      (Fe-59): Module(\n",
      "        (downsampling_blocks): ModuleList(\n",
      "          (0): DownsamplingBlock(\n",
      "            (pre_shortcut_convs): ModuleList(\n",
      "              (0): ConvLayer(\n",
      "                (filter): Conv1d(1, 32, kernel_size=(5,), stride=(1,))\n",
      "                (norm): GroupNorm(4, 32, eps=1e-05, affine=True)\n",
      "              )\n",
      "            )\n",
      "            (post_shortcut_convs): ModuleList(\n",
      "              (0): ConvLayer(\n",
      "                (filter): Conv1d(32, 64, kernel_size=(5,), stride=(1,))\n",
      "                (norm): GroupNorm(8, 64, eps=1e-05, affine=True)\n",
      "              )\n",
      "            )\n",
      "            (downconv): Resample1d()\n",
      "          )\n",
      "          (1): DownsamplingBlock(\n",
      "            (pre_shortcut_convs): ModuleList(\n",
      "              (0): ConvLayer(\n",
      "                (filter): Conv1d(64, 64, kernel_size=(5,), stride=(1,))\n",
      "                (norm): GroupNorm(8, 64, eps=1e-05, affine=True)\n",
      "              )\n",
      "            )\n",
      "            (post_shortcut_convs): ModuleList(\n",
      "              (0): ConvLayer(\n",
      "                (filter): Conv1d(64, 128, kernel_size=(5,), stride=(1,))\n",
      "                (norm): GroupNorm(16, 128, eps=1e-05, affine=True)\n",
      "              )\n",
      "            )\n",
      "            (downconv): Resample1d()\n",
      "          )\n",
      "          (2): DownsamplingBlock(\n",
      "            (pre_shortcut_convs): ModuleList(\n",
      "              (0): ConvLayer(\n",
      "                (filter): Conv1d(128, 128, kernel_size=(5,), stride=(1,))\n",
      "                (norm): GroupNorm(16, 128, eps=1e-05, affine=True)\n",
      "              )\n",
      "            )\n",
      "            (post_shortcut_convs): ModuleList(\n",
      "              (0): ConvLayer(\n",
      "                (filter): Conv1d(128, 256, kernel_size=(5,), stride=(1,))\n",
      "                (norm): GroupNorm(32, 256, eps=1e-05, affine=True)\n",
      "              )\n",
      "            )\n",
      "            (downconv): Resample1d()\n",
      "          )\n",
      "          (3): DownsamplingBlock(\n",
      "            (pre_shortcut_convs): ModuleList(\n",
      "              (0): ConvLayer(\n",
      "                (filter): Conv1d(256, 256, kernel_size=(5,), stride=(1,))\n",
      "                (norm): GroupNorm(32, 256, eps=1e-05, affine=True)\n",
      "              )\n",
      "            )\n",
      "            (post_shortcut_convs): ModuleList(\n",
      "              (0): ConvLayer(\n",
      "                (filter): Conv1d(256, 512, kernel_size=(5,), stride=(1,))\n",
      "                (norm): GroupNorm(64, 512, eps=1e-05, affine=True)\n",
      "              )\n",
      "            )\n",
      "            (downconv): Resample1d()\n",
      "          )\n",
      "          (4): DownsamplingBlock(\n",
      "            (pre_shortcut_convs): ModuleList(\n",
      "              (0): ConvLayer(\n",
      "                (filter): Conv1d(512, 512, kernel_size=(5,), stride=(1,))\n",
      "                (norm): GroupNorm(64, 512, eps=1e-05, affine=True)\n",
      "              )\n",
      "            )\n",
      "            (post_shortcut_convs): ModuleList(\n",
      "              (0): ConvLayer(\n",
      "                (filter): Conv1d(512, 1024, kernel_size=(5,), stride=(1,))\n",
      "                (norm): GroupNorm(128, 1024, eps=1e-05, affine=True)\n",
      "              )\n",
      "            )\n",
      "            (downconv): Resample1d()\n",
      "          )\n",
      "        )\n",
      "        (upsampling_blocks): ModuleList(\n",
      "          (0): UpsamplingBlock(\n",
      "            (upconv): Resample1d()\n",
      "            (pre_shortcut_convs): ModuleList(\n",
      "              (0): ConvLayer(\n",
      "                (filter): Conv1d(1024, 512, kernel_size=(5,), stride=(1,))\n",
      "                (norm): GroupNorm(64, 512, eps=1e-05, affine=True)\n",
      "              )\n",
      "            )\n",
      "            (post_shortcut_convs): ModuleList(\n",
      "              (0): ConvLayer(\n",
      "                (filter): Conv1d(1024, 512, kernel_size=(5,), stride=(1,))\n",
      "                (norm): GroupNorm(64, 512, eps=1e-05, affine=True)\n",
      "              )\n",
      "            )\n",
      "          )\n",
      "          (1): UpsamplingBlock(\n",
      "            (upconv): Resample1d()\n",
      "            (pre_shortcut_convs): ModuleList(\n",
      "              (0): ConvLayer(\n",
      "                (filter): Conv1d(512, 256, kernel_size=(5,), stride=(1,))\n",
      "                (norm): GroupNorm(32, 256, eps=1e-05, affine=True)\n",
      "              )\n",
      "            )\n",
      "            (post_shortcut_convs): ModuleList(\n",
      "              (0): ConvLayer(\n",
      "                (filter): Conv1d(512, 256, kernel_size=(5,), stride=(1,))\n",
      "                (norm): GroupNorm(32, 256, eps=1e-05, affine=True)\n",
      "              )\n",
      "            )\n",
      "          )\n",
      "          (2): UpsamplingBlock(\n",
      "            (upconv): Resample1d()\n",
      "            (pre_shortcut_convs): ModuleList(\n",
      "              (0): ConvLayer(\n",
      "                (filter): Conv1d(256, 128, kernel_size=(5,), stride=(1,))\n",
      "                (norm): GroupNorm(16, 128, eps=1e-05, affine=True)\n",
      "              )\n",
      "            )\n",
      "            (post_shortcut_convs): ModuleList(\n",
      "              (0): ConvLayer(\n",
      "                (filter): Conv1d(256, 128, kernel_size=(5,), stride=(1,))\n",
      "                (norm): GroupNorm(16, 128, eps=1e-05, affine=True)\n",
      "              )\n",
      "            )\n",
      "          )\n",
      "          (3): UpsamplingBlock(\n",
      "            (upconv): Resample1d()\n",
      "            (pre_shortcut_convs): ModuleList(\n",
      "              (0): ConvLayer(\n",
      "                (filter): Conv1d(128, 64, kernel_size=(5,), stride=(1,))\n",
      "                (norm): GroupNorm(8, 64, eps=1e-05, affine=True)\n",
      "              )\n",
      "            )\n",
      "            (post_shortcut_convs): ModuleList(\n",
      "              (0): ConvLayer(\n",
      "                (filter): Conv1d(128, 64, kernel_size=(5,), stride=(1,))\n",
      "                (norm): GroupNorm(8, 64, eps=1e-05, affine=True)\n",
      "              )\n",
      "            )\n",
      "          )\n",
      "          (4): UpsamplingBlock(\n",
      "            (upconv): Resample1d()\n",
      "            (pre_shortcut_convs): ModuleList(\n",
      "              (0): ConvLayer(\n",
      "                (filter): Conv1d(64, 32, kernel_size=(5,), stride=(1,))\n",
      "                (norm): GroupNorm(4, 32, eps=1e-05, affine=True)\n",
      "              )\n",
      "            )\n",
      "            (post_shortcut_convs): ModuleList(\n",
      "              (0): ConvLayer(\n",
      "                (filter): Conv1d(64, 32, kernel_size=(5,), stride=(1,))\n",
      "                (norm): GroupNorm(4, 32, eps=1e-05, affine=True)\n",
      "              )\n",
      "            )\n",
      "          )\n",
      "        )\n",
      "        (bottlenecks): ModuleList(\n",
      "          (0): ConvLayer(\n",
      "            (filter): Conv1d(1024, 1024, kernel_size=(5,), stride=(1,))\n",
      "            (norm): GroupNorm(128, 1024, eps=1e-05, affine=True)\n",
      "          )\n",
      "        )\n",
      "        (output_conv): Conv1d(32, 1, kernel_size=(1,), stride=(1,))\n",
      "      )\n",
      "    )\n",
      "  )\n",
      ")\n",
      "parameter count:  35073730\n",
      "Loading train set...\n",
      "Loading test set...\n",
      "TRAINING START\n",
      "Training one epoch from iteration 0\n"
     ]
    },
    {
     "name": "stderr",
     "output_type": "stream",
     "text": [
      "114it [00:08, 13.25it/s]                                                                                           \n",
      "Current loss: 0.0074: : 29it [00:01, 16.94it/s]                                                                    \n"
     ]
    },
    {
     "name": "stdout",
     "output_type": "stream",
     "text": [
      "VALIDATION FINISHED: LOSS: 0.007426425878857743\n",
      "No 'best_checkpoint' yet\n",
      "MODEL IMPROVED ON VALIDATION SET!\n",
      "No 'None' file found!\n",
      "Saving model...\n",
      "Training one epoch from iteration 114\n"
     ]
    },
    {
     "name": "stderr",
     "output_type": "stream",
     "text": [
      "114it [00:05, 21.98it/s]                                                                                           \n",
      "Current loss: 0.0048: : 29it [00:00, 43.15it/s]                                                                    \n"
     ]
    },
    {
     "name": "stdout",
     "output_type": "stream",
     "text": [
      "VALIDATION FINISHED: LOSS: 0.0047967814527259305\n",
      "MODEL IMPROVED ON VALIDATION SET!\n",
      "Removing old file /home/aarbuzov/work-and-study/git/Wave-U-Net-Pytorch/checkpoints/checkpoint_114\n",
      "Saving model...\n",
      "Training one epoch from iteration 228\n"
     ]
    },
    {
     "name": "stderr",
     "output_type": "stream",
     "text": [
      "114it [00:05, 22.17it/s]                                                                                           \n",
      "Current loss: 0.0048: : 29it [00:00, 43.01it/s]                                                                    \n"
     ]
    },
    {
     "name": "stdout",
     "output_type": "stream",
     "text": [
      "VALIDATION FINISHED: LOSS: 0.004833961112408673\n",
      "Removing old file /home/aarbuzov/work-and-study/git/Wave-U-Net-Pytorch/checkpoints/checkpoint_228\n",
      "Saving model...\n",
      "Training one epoch from iteration 342\n"
     ]
    },
    {
     "name": "stderr",
     "output_type": "stream",
     "text": [
      "114it [00:05, 22.22it/s]                                                                                           \n",
      "Current loss: 0.0044: : 29it [00:00, 42.17it/s]                                                                    \n"
     ]
    },
    {
     "name": "stdout",
     "output_type": "stream",
     "text": [
      "VALIDATION FINISHED: LOSS: 0.004406639962890666\n",
      "MODEL IMPROVED ON VALIDATION SET!\n",
      "Saving model...\n",
      "Training one epoch from iteration 456\n"
     ]
    },
    {
     "name": "stderr",
     "output_type": "stream",
     "text": [
      "114it [00:05, 22.14it/s]                                                                                           \n",
      "Current loss: 0.0044: : 29it [00:00, 42.46it/s]                                                                    \n"
     ]
    },
    {
     "name": "stdout",
     "output_type": "stream",
     "text": [
      "VALIDATION FINISHED: LOSS: 0.004377926593437663\n",
      "MODEL IMPROVED ON VALIDATION SET!\n",
      "Removing old file /home/aarbuzov/work-and-study/git/Wave-U-Net-Pytorch/checkpoints/checkpoint_456\n",
      "Saving model...\n",
      "Training one epoch from iteration 570\n"
     ]
    },
    {
     "name": "stderr",
     "output_type": "stream",
     "text": [
      "114it [00:05, 22.47it/s]                                                                                           \n",
      "Current loss: 0.0042: : 29it [00:00, 43.06it/s]                                                                    \n"
     ]
    },
    {
     "name": "stdout",
     "output_type": "stream",
     "text": [
      "VALIDATION FINISHED: LOSS: 0.004231784016030422\n",
      "MODEL IMPROVED ON VALIDATION SET!\n",
      "Removing old file /home/aarbuzov/work-and-study/git/Wave-U-Net-Pytorch/checkpoints/checkpoint_570\n",
      "Saving model...\n",
      "Training one epoch from iteration 684\n"
     ]
    },
    {
     "name": "stderr",
     "output_type": "stream",
     "text": [
      "114it [00:05, 22.07it/s]                                                                                           \n",
      "Current loss: 0.0043: : 29it [00:00, 43.04it/s]                                                                    \n"
     ]
    },
    {
     "name": "stdout",
     "output_type": "stream",
     "text": [
      "VALIDATION FINISHED: LOSS: 0.004258938400668958\n",
      "Removing old file /home/aarbuzov/work-and-study/git/Wave-U-Net-Pytorch/checkpoints/checkpoint_684\n",
      "Saving model...\n",
      "Training one epoch from iteration 798\n"
     ]
    },
    {
     "name": "stderr",
     "output_type": "stream",
     "text": [
      "114it [00:05, 22.40it/s]                                                                                           \n",
      "Current loss: 0.0044: : 29it [00:00, 42.78it/s]                                                                    \n"
     ]
    },
    {
     "name": "stdout",
     "output_type": "stream",
     "text": [
      "VALIDATION FINISHED: LOSS: 0.004366086764815103\n",
      "Saving model...\n",
      "Training one epoch from iteration 912\n"
     ]
    },
    {
     "name": "stderr",
     "output_type": "stream",
     "text": [
      "114it [00:05, 22.21it/s]                                                                                           \n",
      "Current loss: 0.0042: : 29it [00:00, 43.06it/s]                                                                    \n"
     ]
    },
    {
     "name": "stdout",
     "output_type": "stream",
     "text": [
      "VALIDATION FINISHED: LOSS: 0.0041837264876009835\n",
      "MODEL IMPROVED ON VALIDATION SET!\n",
      "Saving model...\n",
      "Training one epoch from iteration 1026\n"
     ]
    },
    {
     "name": "stderr",
     "output_type": "stream",
     "text": [
      "114it [00:05, 22.46it/s]                                                                                           \n",
      "Current loss: 0.0043: : 29it [00:00, 42.46it/s]                                                                    \n"
     ]
    },
    {
     "name": "stdout",
     "output_type": "stream",
     "text": [
      "VALIDATION FINISHED: LOSS: 0.004339333834399566\n",
      "Removing old file /home/aarbuzov/work-and-study/git/Wave-U-Net-Pytorch/checkpoints/checkpoint_1026\n",
      "Saving model...\n",
      "Training one epoch from iteration 1140\n"
     ]
    },
    {
     "name": "stderr",
     "output_type": "stream",
     "text": [
      "114it [00:05, 22.16it/s]                                                                                           \n",
      "Current loss: 0.0038: : 29it [00:00, 42.90it/s]                                                                    \n"
     ]
    },
    {
     "name": "stdout",
     "output_type": "stream",
     "text": [
      "VALIDATION FINISHED: LOSS: 0.003840766846130057\n",
      "MODEL IMPROVED ON VALIDATION SET!\n",
      "Saving model...\n",
      "Training one epoch from iteration 1254\n"
     ]
    },
    {
     "name": "stderr",
     "output_type": "stream",
     "text": [
      "114it [00:05, 22.35it/s]                                                                                           \n",
      "Current loss: 0.0043: : 29it [00:00, 42.89it/s]                                                                    \n"
     ]
    },
    {
     "name": "stdout",
     "output_type": "stream",
     "text": [
      "VALIDATION FINISHED: LOSS: 0.0043221366680066655\n",
      "Removing old file /home/aarbuzov/work-and-study/git/Wave-U-Net-Pytorch/checkpoints/checkpoint_1254\n",
      "Saving model...\n",
      "Training one epoch from iteration 1368\n"
     ]
    },
    {
     "name": "stderr",
     "output_type": "stream",
     "text": [
      "114it [00:05, 22.15it/s]                                                                                           \n",
      "Current loss: 0.0038: : 29it [00:00, 42.69it/s]                                                                    \n"
     ]
    },
    {
     "name": "stdout",
     "output_type": "stream",
     "text": [
      "VALIDATION FINISHED: LOSS: 0.0037653410118795795\n",
      "MODEL IMPROVED ON VALIDATION SET!\n",
      "Saving model...\n",
      "Training one epoch from iteration 1482\n"
     ]
    },
    {
     "name": "stderr",
     "output_type": "stream",
     "text": [
      "114it [00:05, 22.49it/s]                                                                                           \n",
      "Current loss: 0.0038: : 29it [00:00, 43.12it/s]                                                                    \n"
     ]
    },
    {
     "name": "stdout",
     "output_type": "stream",
     "text": [
      "VALIDATION FINISHED: LOSS: 0.003813843007484483\n",
      "Removing old file /home/aarbuzov/work-and-study/git/Wave-U-Net-Pytorch/checkpoints/checkpoint_1482\n",
      "Saving model...\n",
      "Training one epoch from iteration 1596\n"
     ]
    },
    {
     "name": "stderr",
     "output_type": "stream",
     "text": [
      "114it [00:05, 22.21it/s]                                                                                           \n",
      "Current loss: 0.0040: : 29it [00:00, 43.02it/s]                                                                    \n"
     ]
    },
    {
     "name": "stdout",
     "output_type": "stream",
     "text": [
      "VALIDATION FINISHED: LOSS: 0.003967818731827469\n",
      "Saving model...\n",
      "Training one epoch from iteration 1710\n"
     ]
    },
    {
     "name": "stderr",
     "output_type": "stream",
     "text": [
      "114it [00:05, 22.48it/s]                                                                                           \n",
      "Current loss: 0.0039: : 29it [00:00, 43.17it/s]                                                                    \n"
     ]
    },
    {
     "name": "stdout",
     "output_type": "stream",
     "text": [
      "VALIDATION FINISHED: LOSS: 0.0038903725136810075\n",
      "Saving model...\n",
      "Training one epoch from iteration 1824\n"
     ]
    },
    {
     "name": "stderr",
     "output_type": "stream",
     "text": [
      "114it [00:05, 22.22it/s]                                                                                           \n",
      "Current loss: 0.0038: : 29it [00:00, 42.92it/s]                                                                    \n"
     ]
    },
    {
     "name": "stdout",
     "output_type": "stream",
     "text": [
      "VALIDATION FINISHED: LOSS: 0.0037672388545992174\n",
      "Saving model...\n",
      "Training one epoch from iteration 1938\n"
     ]
    },
    {
     "name": "stderr",
     "output_type": "stream",
     "text": [
      "114it [00:05, 22.49it/s]                                                                                           \n",
      "Current loss: 0.0038: : 29it [00:00, 42.92it/s]                                                                    \n"
     ]
    },
    {
     "name": "stdout",
     "output_type": "stream",
     "text": [
      "VALIDATION FINISHED: LOSS: 0.0037892181536680544\n",
      "Saving model...\n",
      "Training one epoch from iteration 2052\n"
     ]
    },
    {
     "name": "stderr",
     "output_type": "stream",
     "text": [
      "114it [00:05, 22.27it/s]                                                                                           \n",
      "Current loss: 0.0039: : 29it [00:00, 42.31it/s]                                                                    \n"
     ]
    },
    {
     "name": "stdout",
     "output_type": "stream",
     "text": [
      "VALIDATION FINISHED: LOSS: 0.0038568491521612574\n",
      "Saving model...\n",
      "Training one epoch from iteration 2166\n"
     ]
    },
    {
     "name": "stderr",
     "output_type": "stream",
     "text": [
      "114it [00:05, 22.47it/s]                                                                                           \n",
      "Current loss: 0.0038: : 29it [00:00, 42.98it/s]                                                                    \n"
     ]
    },
    {
     "name": "stdout",
     "output_type": "stream",
     "text": [
      "VALIDATION FINISHED: LOSS: 0.003789741657313024\n",
      "Saving model...\n",
      "Training one epoch from iteration 2280\n"
     ]
    },
    {
     "name": "stderr",
     "output_type": "stream",
     "text": [
      "114it [00:05, 22.21it/s]                                                                                           \n",
      "Current loss: 0.0040: : 29it [00:00, 42.67it/s]                                                                    \n"
     ]
    },
    {
     "name": "stdout",
     "output_type": "stream",
     "text": [
      "VALIDATION FINISHED: LOSS: 0.004007815196708744\n",
      "Saving model...\n",
      "Training one epoch from iteration 2394\n"
     ]
    },
    {
     "name": "stderr",
     "output_type": "stream",
     "text": [
      "114it [00:05, 22.53it/s]                                                                                           \n",
      "Current loss: 0.0038: : 29it [00:00, 43.14it/s]                                                                    \n"
     ]
    },
    {
     "name": "stdout",
     "output_type": "stream",
     "text": [
      "VALIDATION FINISHED: LOSS: 0.0037682906298994513\n",
      "Saving model...\n",
      "Training one epoch from iteration 2508\n"
     ]
    },
    {
     "name": "stderr",
     "output_type": "stream",
     "text": [
      "114it [00:05, 22.21it/s]                                                                                           \n",
      "Current loss: 0.0037: : 29it [00:00, 42.87it/s]                                                                    \n"
     ]
    },
    {
     "name": "stdout",
     "output_type": "stream",
     "text": [
      "VALIDATION FINISHED: LOSS: 0.0037148170110946196\n",
      "MODEL IMPROVED ON VALIDATION SET!\n",
      "Saving model...\n",
      "Training one epoch from iteration 2622\n"
     ]
    },
    {
     "name": "stderr",
     "output_type": "stream",
     "text": [
      "114it [00:05, 22.44it/s]                                                                                           \n",
      "Current loss: 0.0038: : 29it [00:00, 43.09it/s]                                                                    \n"
     ]
    },
    {
     "name": "stdout",
     "output_type": "stream",
     "text": [
      "VALIDATION FINISHED: LOSS: 0.003796747694964167\n",
      "Removing old file /home/aarbuzov/work-and-study/git/Wave-U-Net-Pytorch/checkpoints/checkpoint_2622\n",
      "Saving model...\n",
      "Training one epoch from iteration 2736\n"
     ]
    },
    {
     "name": "stderr",
     "output_type": "stream",
     "text": [
      "114it [00:05, 22.25it/s]                                                                                           \n",
      "Current loss: 0.0041: : 29it [00:00, 43.05it/s]                                                                    \n"
     ]
    },
    {
     "name": "stdout",
     "output_type": "stream",
     "text": [
      "VALIDATION FINISHED: LOSS: 0.004085145151074014\n",
      "Saving model...\n",
      "Training one epoch from iteration 2850\n"
     ]
    },
    {
     "name": "stderr",
     "output_type": "stream",
     "text": [
      "114it [00:05, 22.38it/s]                                                                                           \n",
      "Current loss: 0.0037: : 29it [00:00, 43.31it/s]                                                                    \n"
     ]
    },
    {
     "name": "stdout",
     "output_type": "stream",
     "text": [
      "VALIDATION FINISHED: LOSS: 0.0036961694964577022\n",
      "MODEL IMPROVED ON VALIDATION SET!\n",
      "Saving model...\n",
      "Training one epoch from iteration 2964\n"
     ]
    },
    {
     "name": "stderr",
     "output_type": "stream",
     "text": [
      "114it [00:05, 22.05it/s]                                                                                           \n",
      "Current loss: 0.0042: : 29it [00:00, 43.08it/s]                                                                    \n"
     ]
    },
    {
     "name": "stdout",
     "output_type": "stream",
     "text": [
      "VALIDATION FINISHED: LOSS: 0.004182082295803161\n",
      "Removing old file /home/aarbuzov/work-and-study/git/Wave-U-Net-Pytorch/checkpoints/checkpoint_2964\n",
      "Saving model...\n",
      "Training one epoch from iteration 3078\n"
     ]
    },
    {
     "name": "stderr",
     "output_type": "stream",
     "text": [
      "114it [00:05, 22.41it/s]                                                                                           \n",
      "Current loss: 0.0037: : 29it [00:00, 39.99it/s]                                                                    \n"
     ]
    },
    {
     "name": "stdout",
     "output_type": "stream",
     "text": [
      "VALIDATION FINISHED: LOSS: 0.0037005979915005\n",
      "Saving model...\n",
      "Training one epoch from iteration 3192\n"
     ]
    },
    {
     "name": "stderr",
     "output_type": "stream",
     "text": [
      "114it [00:05, 22.16it/s]                                                                                           \n",
      "Current loss: 0.0038: : 29it [00:00, 42.82it/s]                                                                    \n"
     ]
    },
    {
     "name": "stdout",
     "output_type": "stream",
     "text": [
      "VALIDATION FINISHED: LOSS: 0.003836468957035385\n",
      "Saving model...\n",
      "Training one epoch from iteration 3306\n"
     ]
    },
    {
     "name": "stderr",
     "output_type": "stream",
     "text": [
      "114it [00:05, 22.49it/s]                                                                                           \n",
      "Current loss: 0.0038: : 29it [00:00, 41.79it/s]                                                                    \n"
     ]
    },
    {
     "name": "stdout",
     "output_type": "stream",
     "text": [
      "VALIDATION FINISHED: LOSS: 0.0038186627147109085\n",
      "Saving model...\n",
      "Training one epoch from iteration 3420\n"
     ]
    },
    {
     "name": "stderr",
     "output_type": "stream",
     "text": [
      "114it [00:05, 22.23it/s]                                                                                           \n",
      "Current loss: 0.0037: : 29it [00:00, 42.39it/s]                                                                    \n"
     ]
    },
    {
     "name": "stdout",
     "output_type": "stream",
     "text": [
      "VALIDATION FINISHED: LOSS: 0.003747884452078042\n",
      "Saving model...\n",
      "Training one epoch from iteration 3534\n"
     ]
    },
    {
     "name": "stderr",
     "output_type": "stream",
     "text": [
      "114it [00:05, 22.46it/s]                                                                                           \n",
      "Current loss: 0.0036: : 29it [00:00, 42.24it/s]                                                                    \n"
     ]
    },
    {
     "name": "stdout",
     "output_type": "stream",
     "text": [
      "VALIDATION FINISHED: LOSS: 0.003648539402939635\n",
      "MODEL IMPROVED ON VALIDATION SET!\n",
      "Saving model...\n",
      "Training one epoch from iteration 3648\n"
     ]
    },
    {
     "name": "stderr",
     "output_type": "stream",
     "text": [
      "114it [00:05, 22.17it/s]                                                                                           \n",
      "Current loss: 0.0036: : 29it [00:00, 42.97it/s]                                                                    \n"
     ]
    },
    {
     "name": "stdout",
     "output_type": "stream",
     "text": [
      "VALIDATION FINISHED: LOSS: 0.0036006540206566066\n",
      "MODEL IMPROVED ON VALIDATION SET!\n",
      "Removing old file /home/aarbuzov/work-and-study/git/Wave-U-Net-Pytorch/checkpoints/checkpoint_3648\n",
      "Saving model...\n",
      "Training one epoch from iteration 3762\n"
     ]
    },
    {
     "name": "stderr",
     "output_type": "stream",
     "text": [
      "114it [00:05, 22.43it/s]                                                                                           \n",
      "Current loss: 0.0036: : 29it [00:00, 42.84it/s]                                                                    \n"
     ]
    },
    {
     "name": "stdout",
     "output_type": "stream",
     "text": [
      "VALIDATION FINISHED: LOSS: 0.0036024183360056877\n",
      "Removing old file /home/aarbuzov/work-and-study/git/Wave-U-Net-Pytorch/checkpoints/checkpoint_3762\n",
      "Saving model...\n",
      "Training one epoch from iteration 3876\n"
     ]
    },
    {
     "name": "stderr",
     "output_type": "stream",
     "text": [
      "114it [00:05, 22.20it/s]                                                                                           \n",
      "Current loss: 0.0037: : 29it [00:00, 42.95it/s]                                                                    \n"
     ]
    },
    {
     "name": "stdout",
     "output_type": "stream",
     "text": [
      "VALIDATION FINISHED: LOSS: 0.0037413522669371073\n",
      "Saving model...\n",
      "Training one epoch from iteration 3990\n"
     ]
    },
    {
     "name": "stderr",
     "output_type": "stream",
     "text": [
      "114it [00:05, 22.46it/s]                                                                                           \n",
      "Current loss: 0.0037: : 29it [00:00, 43.05it/s]                                                                    \n"
     ]
    },
    {
     "name": "stdout",
     "output_type": "stream",
     "text": [
      "VALIDATION FINISHED: LOSS: 0.0036884601416612237\n",
      "Saving model...\n",
      "Training one epoch from iteration 4104\n"
     ]
    },
    {
     "name": "stderr",
     "output_type": "stream",
     "text": [
      "114it [00:05, 22.22it/s]                                                                                           \n",
      "Current loss: 0.0037: : 29it [00:00, 42.94it/s]                                                                    \n"
     ]
    },
    {
     "name": "stdout",
     "output_type": "stream",
     "text": [
      "VALIDATION FINISHED: LOSS: 0.0037183389087721446\n",
      "Saving model...\n",
      "Training one epoch from iteration 4218\n"
     ]
    },
    {
     "name": "stderr",
     "output_type": "stream",
     "text": [
      "114it [00:05, 22.46it/s]                                                                                           \n",
      "Current loss: 0.0036: : 29it [00:00, 43.14it/s]                                                                    \n"
     ]
    },
    {
     "name": "stdout",
     "output_type": "stream",
     "text": [
      "VALIDATION FINISHED: LOSS: 0.003613718924843224\n",
      "Saving model...\n",
      "Training one epoch from iteration 4332\n"
     ]
    },
    {
     "name": "stderr",
     "output_type": "stream",
     "text": [
      "114it [00:05, 22.26it/s]                                                                                           \n",
      "Current loss: 0.0036: : 29it [00:00, 43.17it/s]                                                                    \n"
     ]
    },
    {
     "name": "stdout",
     "output_type": "stream",
     "text": [
      "VALIDATION FINISHED: LOSS: 0.0036183626627838555\n",
      "Saving model...\n",
      "Training one epoch from iteration 4446\n"
     ]
    },
    {
     "name": "stderr",
     "output_type": "stream",
     "text": [
      "114it [00:05, 22.46it/s]                                                                                           \n",
      "Current loss: 0.0037: : 29it [00:00, 43.19it/s]                                                                    \n"
     ]
    },
    {
     "name": "stdout",
     "output_type": "stream",
     "text": [
      "VALIDATION FINISHED: LOSS: 0.0037121844110641128\n",
      "Saving model...\n",
      "Training one epoch from iteration 4560\n"
     ]
    },
    {
     "name": "stderr",
     "output_type": "stream",
     "text": [
      "114it [00:05, 22.21it/s]                                                                                           \n",
      "Current loss: 0.0035: : 29it [00:00, 42.96it/s]                                                                    \n"
     ]
    },
    {
     "name": "stdout",
     "output_type": "stream",
     "text": [
      "VALIDATION FINISHED: LOSS: 0.003524333802613847\n",
      "MODEL IMPROVED ON VALIDATION SET!\n",
      "Saving model...\n",
      "Training one epoch from iteration 4674\n"
     ]
    },
    {
     "name": "stderr",
     "output_type": "stream",
     "text": [
      "114it [00:05, 22.38it/s]                                                                                           \n",
      "Current loss: 0.0036: : 29it [00:00, 42.89it/s]                                                                    \n"
     ]
    },
    {
     "name": "stdout",
     "output_type": "stream",
     "text": [
      "VALIDATION FINISHED: LOSS: 0.0036346040794561652\n",
      "Removing old file /home/aarbuzov/work-and-study/git/Wave-U-Net-Pytorch/checkpoints/checkpoint_4674\n",
      "Saving model...\n",
      "Training one epoch from iteration 4788\n"
     ]
    },
    {
     "name": "stderr",
     "output_type": "stream",
     "text": [
      "114it [00:05, 22.21it/s]                                                                                           \n",
      "Current loss: 0.0036: : 29it [00:00, 42.32it/s]                                                                    \n"
     ]
    },
    {
     "name": "stdout",
     "output_type": "stream",
     "text": [
      "VALIDATION FINISHED: LOSS: 0.003590158165777745\n",
      "Saving model...\n",
      "Training one epoch from iteration 4902\n"
     ]
    },
    {
     "name": "stderr",
     "output_type": "stream",
     "text": [
      "114it [00:05, 22.45it/s]                                                                                           \n",
      "Current loss: 0.0036: : 29it [00:00, 43.07it/s]                                                                    \n"
     ]
    },
    {
     "name": "stdout",
     "output_type": "stream",
     "text": [
      "VALIDATION FINISHED: LOSS: 0.0036297213950531623\n",
      "Saving model...\n",
      "Training one epoch from iteration 5016\n"
     ]
    },
    {
     "name": "stderr",
     "output_type": "stream",
     "text": [
      "114it [00:05, 22.19it/s]                                                                                           \n",
      "Current loss: 0.0038: : 29it [00:00, 43.04it/s]                                                                    \n"
     ]
    },
    {
     "name": "stdout",
     "output_type": "stream",
     "text": [
      "VALIDATION FINISHED: LOSS: 0.003811734431455363\n",
      "Saving model...\n",
      "Training one epoch from iteration 5130\n"
     ]
    },
    {
     "name": "stderr",
     "output_type": "stream",
     "text": [
      "114it [00:05, 22.42it/s]                                                                                           \n",
      "Current loss: 0.0036: : 29it [00:00, 43.07it/s]                                                                    \n"
     ]
    },
    {
     "name": "stdout",
     "output_type": "stream",
     "text": [
      "VALIDATION FINISHED: LOSS: 0.0036039524410594373\n",
      "Saving model...\n",
      "Training one epoch from iteration 5244\n"
     ]
    },
    {
     "name": "stderr",
     "output_type": "stream",
     "text": [
      "114it [00:05, 22.25it/s]                                                                                           \n",
      "Current loss: 0.0037: : 29it [00:00, 42.89it/s]                                                                    \n"
     ]
    },
    {
     "name": "stdout",
     "output_type": "stream",
     "text": [
      "VALIDATION FINISHED: LOSS: 0.0036542085982891243\n",
      "Saving model...\n",
      "Training one epoch from iteration 5358\n"
     ]
    },
    {
     "name": "stderr",
     "output_type": "stream",
     "text": [
      "114it [00:05, 22.52it/s]                                                                                           \n",
      "Current loss: 0.0037: : 29it [00:00, 43.25it/s]                                                                    \n"
     ]
    },
    {
     "name": "stdout",
     "output_type": "stream",
     "text": [
      "VALIDATION FINISHED: LOSS: 0.003686367637469787\n",
      "Saving model...\n",
      "Training one epoch from iteration 5472\n"
     ]
    },
    {
     "name": "stderr",
     "output_type": "stream",
     "text": [
      "114it [00:05, 22.21it/s]                                                                                           \n",
      "Current loss: 0.0036: : 29it [00:00, 43.14it/s]                                                                    \n"
     ]
    },
    {
     "name": "stdout",
     "output_type": "stream",
     "text": [
      "VALIDATION FINISHED: LOSS: 0.0035846422020956105\n",
      "Saving model...\n",
      "Training one epoch from iteration 5586\n"
     ]
    },
    {
     "name": "stderr",
     "output_type": "stream",
     "text": [
      "114it [00:05, 22.47it/s]                                                                                           \n",
      "Current loss: 0.0035: : 29it [00:00, 42.92it/s]                                                                    \n"
     ]
    },
    {
     "name": "stdout",
     "output_type": "stream",
     "text": [
      "VALIDATION FINISHED: LOSS: 0.003539544655660425\n",
      "Saving model...\n",
      "Training one epoch from iteration 5700\n"
     ]
    },
    {
     "name": "stderr",
     "output_type": "stream",
     "text": [
      "114it [00:05, 22.26it/s]                                                                                           \n",
      "Current loss: 0.0038: : 29it [00:00, 42.76it/s]                                                                    \n"
     ]
    },
    {
     "name": "stdout",
     "output_type": "stream",
     "text": [
      "VALIDATION FINISHED: LOSS: 0.0037607381668279018\n",
      "Saving model...\n",
      "Training one epoch from iteration 5814\n"
     ]
    },
    {
     "name": "stderr",
     "output_type": "stream",
     "text": [
      "114it [00:05, 22.43it/s]                                                                                           \n",
      "Current loss: 0.0036: : 29it [00:00, 42.90it/s]                                                                    \n"
     ]
    },
    {
     "name": "stdout",
     "output_type": "stream",
     "text": [
      "VALIDATION FINISHED: LOSS: 0.0035915346605430265\n",
      "Saving model...\n",
      "Training one epoch from iteration 5928\n"
     ]
    },
    {
     "name": "stderr",
     "output_type": "stream",
     "text": [
      "114it [00:05, 22.23it/s]                                                                                           \n",
      "Current loss: 0.0038: : 29it [00:00, 42.97it/s]                                                                    \n"
     ]
    },
    {
     "name": "stdout",
     "output_type": "stream",
     "text": [
      "VALIDATION FINISHED: LOSS: 0.00383708674404449\n",
      "Saving model...\n",
      "Training one epoch from iteration 6042\n"
     ]
    },
    {
     "name": "stderr",
     "output_type": "stream",
     "text": [
      "114it [00:05, 22.50it/s]                                                                                           \n",
      "Current loss: 0.0035: : 29it [00:00, 43.12it/s]                                                                    \n"
     ]
    },
    {
     "name": "stdout",
     "output_type": "stream",
     "text": [
      "VALIDATION FINISHED: LOSS: 0.003482509285998369\n",
      "MODEL IMPROVED ON VALIDATION SET!\n",
      "Saving model...\n",
      "Training one epoch from iteration 6156\n"
     ]
    },
    {
     "name": "stderr",
     "output_type": "stream",
     "text": [
      "114it [00:05, 22.25it/s]                                                                                           \n",
      "Current loss: 0.0035: : 29it [00:00, 42.94it/s]                                                                    \n"
     ]
    },
    {
     "name": "stdout",
     "output_type": "stream",
     "text": [
      "VALIDATION FINISHED: LOSS: 0.003522541809522001\n",
      "Removing old file /home/aarbuzov/work-and-study/git/Wave-U-Net-Pytorch/checkpoints/checkpoint_6156\n",
      "Saving model...\n",
      "Training one epoch from iteration 6270\n"
     ]
    },
    {
     "name": "stderr",
     "output_type": "stream",
     "text": [
      "114it [00:05, 22.50it/s]                                                                                           \n",
      "Current loss: 0.0036: : 29it [00:00, 43.10it/s]                                                                    \n"
     ]
    },
    {
     "name": "stdout",
     "output_type": "stream",
     "text": [
      "VALIDATION FINISHED: LOSS: 0.0036262283834291565\n",
      "Saving model...\n",
      "Training one epoch from iteration 6384\n"
     ]
    },
    {
     "name": "stderr",
     "output_type": "stream",
     "text": [
      "114it [00:05, 22.23it/s]                                                                                           \n",
      "Current loss: 0.0035: : 29it [00:00, 43.09it/s]                                                                    \n"
     ]
    },
    {
     "name": "stdout",
     "output_type": "stream",
     "text": [
      "VALIDATION FINISHED: LOSS: 0.003466697867381676\n",
      "MODEL IMPROVED ON VALIDATION SET!\n",
      "Saving model...\n",
      "Training one epoch from iteration 6498\n"
     ]
    },
    {
     "name": "stderr",
     "output_type": "stream",
     "text": [
      "114it [00:05, 22.38it/s]                                                                                           \n",
      "Current loss: 0.0035: : 29it [00:00, 42.74it/s]                                                                    \n"
     ]
    },
    {
     "name": "stdout",
     "output_type": "stream",
     "text": [
      "VALIDATION FINISHED: LOSS: 0.0035409205894242836\n",
      "Removing old file /home/aarbuzov/work-and-study/git/Wave-U-Net-Pytorch/checkpoints/checkpoint_6498\n",
      "Saving model...\n",
      "Training one epoch from iteration 6612\n"
     ]
    },
    {
     "name": "stderr",
     "output_type": "stream",
     "text": [
      "114it [00:05, 22.04it/s]                                                                                           \n",
      "Current loss: 0.0036: : 29it [00:00, 42.78it/s]                                                                    \n"
     ]
    },
    {
     "name": "stdout",
     "output_type": "stream",
     "text": [
      "VALIDATION FINISHED: LOSS: 0.003626135908516831\n",
      "Saving model...\n",
      "Training one epoch from iteration 6726\n"
     ]
    },
    {
     "name": "stderr",
     "output_type": "stream",
     "text": [
      "114it [00:05, 22.38it/s]                                                                                           \n",
      "Current loss: 0.0035: : 29it [00:00, 43.35it/s]                                                                    \n"
     ]
    },
    {
     "name": "stdout",
     "output_type": "stream",
     "text": [
      "VALIDATION FINISHED: LOSS: 0.003499634640194989\n",
      "Saving model...\n",
      "Training one epoch from iteration 6840\n"
     ]
    },
    {
     "name": "stderr",
     "output_type": "stream",
     "text": [
      "114it [00:05, 22.15it/s]                                                                                           \n",
      "Current loss: 0.0035: : 29it [00:00, 42.91it/s]                                                                    \n"
     ]
    },
    {
     "name": "stdout",
     "output_type": "stream",
     "text": [
      "VALIDATION FINISHED: LOSS: 0.0035443398860636453\n",
      "Saving model...\n",
      "Training one epoch from iteration 6954\n"
     ]
    },
    {
     "name": "stderr",
     "output_type": "stream",
     "text": [
      "114it [00:05, 22.42it/s]                                                                                           \n",
      "Current loss: 0.0034: : 29it [00:00, 42.87it/s]                                                                    \n"
     ]
    },
    {
     "name": "stdout",
     "output_type": "stream",
     "text": [
      "VALIDATION FINISHED: LOSS: 0.003410341755029392\n",
      "MODEL IMPROVED ON VALIDATION SET!\n",
      "Saving model...\n",
      "Training one epoch from iteration 7068\n"
     ]
    },
    {
     "name": "stderr",
     "output_type": "stream",
     "text": [
      "114it [00:05, 22.20it/s]                                                                                           \n",
      "Current loss: 0.0035: : 29it [00:00, 42.68it/s]                                                                    \n"
     ]
    },
    {
     "name": "stdout",
     "output_type": "stream",
     "text": [
      "VALIDATION FINISHED: LOSS: 0.0035276633169469902\n",
      "Removing old file /home/aarbuzov/work-and-study/git/Wave-U-Net-Pytorch/checkpoints/checkpoint_7068\n",
      "Saving model...\n",
      "Training one epoch from iteration 7182\n"
     ]
    },
    {
     "name": "stderr",
     "output_type": "stream",
     "text": [
      "114it [00:05, 22.43it/s]                                                                                           \n",
      "Current loss: 0.0037: : 29it [00:00, 42.71it/s]                                                                    \n"
     ]
    },
    {
     "name": "stdout",
     "output_type": "stream",
     "text": [
      "VALIDATION FINISHED: LOSS: 0.003683730650789522\n",
      "Saving model...\n",
      "Training one epoch from iteration 7296\n"
     ]
    },
    {
     "name": "stderr",
     "output_type": "stream",
     "text": [
      "114it [00:05, 22.15it/s]                                                                                           \n",
      "Current loss: 0.0036: : 29it [00:00, 42.50it/s]                                                                    \n"
     ]
    },
    {
     "name": "stdout",
     "output_type": "stream",
     "text": [
      "VALIDATION FINISHED: LOSS: 0.0035522639859821015\n",
      "Saving model...\n",
      "Training one epoch from iteration 7410\n"
     ]
    },
    {
     "name": "stderr",
     "output_type": "stream",
     "text": [
      "114it [00:05, 22.43it/s]                                                                                           \n",
      "Current loss: 0.0036: : 29it [00:00, 42.96it/s]                                                                    \n"
     ]
    },
    {
     "name": "stdout",
     "output_type": "stream",
     "text": [
      "VALIDATION FINISHED: LOSS: 0.0035651232294561666\n",
      "Saving model...\n",
      "Training one epoch from iteration 7524\n"
     ]
    },
    {
     "name": "stderr",
     "output_type": "stream",
     "text": [
      "114it [00:05, 22.17it/s]                                                                                           \n",
      "Current loss: 0.0034: : 29it [00:00, 42.97it/s]                                                                    \n"
     ]
    },
    {
     "name": "stdout",
     "output_type": "stream",
     "text": [
      "VALIDATION FINISHED: LOSS: 0.0034012619771288137\n",
      "MODEL IMPROVED ON VALIDATION SET!\n",
      "Saving model...\n",
      "Training one epoch from iteration 7638\n"
     ]
    },
    {
     "name": "stderr",
     "output_type": "stream",
     "text": [
      "114it [00:05, 22.38it/s]                                                                                           \n",
      "Current loss: 0.0035: : 29it [00:00, 41.57it/s]                                                                    \n"
     ]
    },
    {
     "name": "stdout",
     "output_type": "stream",
     "text": [
      "VALIDATION FINISHED: LOSS: 0.0034716393917012187\n",
      "Removing old file /home/aarbuzov/work-and-study/git/Wave-U-Net-Pytorch/checkpoints/checkpoint_7638\n",
      "Saving model...\n",
      "Training one epoch from iteration 7752\n"
     ]
    },
    {
     "name": "stderr",
     "output_type": "stream",
     "text": [
      "114it [00:05, 22.15it/s]                                                                                           \n",
      "Current loss: 0.0036: : 29it [00:00, 42.43it/s]                                                                    \n"
     ]
    },
    {
     "name": "stdout",
     "output_type": "stream",
     "text": [
      "VALIDATION FINISHED: LOSS: 0.003563836719218545\n",
      "Saving model...\n",
      "Training one epoch from iteration 7866\n"
     ]
    },
    {
     "name": "stderr",
     "output_type": "stream",
     "text": [
      "114it [00:05, 22.44it/s]                                                                                           \n",
      "Current loss: 0.0034: : 29it [00:00, 42.72it/s]                                                                    \n"
     ]
    },
    {
     "name": "stdout",
     "output_type": "stream",
     "text": [
      "VALIDATION FINISHED: LOSS: 0.0034352274755104282\n",
      "Saving model...\n",
      "Training one epoch from iteration 7980\n"
     ]
    },
    {
     "name": "stderr",
     "output_type": "stream",
     "text": [
      "114it [00:05, 22.20it/s]                                                                                           \n",
      "Current loss: 0.0037: : 29it [00:00, 42.90it/s]                                                                    \n"
     ]
    },
    {
     "name": "stdout",
     "output_type": "stream",
     "text": [
      "VALIDATION FINISHED: LOSS: 0.0037239782245235583\n",
      "Saving model...\n",
      "Training one epoch from iteration 8094\n"
     ]
    },
    {
     "name": "stderr",
     "output_type": "stream",
     "text": [
      "114it [00:05, 22.49it/s]                                                                                           \n",
      "Current loss: 0.0036: : 29it [00:00, 42.93it/s]                                                                    \n"
     ]
    },
    {
     "name": "stdout",
     "output_type": "stream",
     "text": [
      "VALIDATION FINISHED: LOSS: 0.00356040900705607\n",
      "Saving model...\n",
      "Training one epoch from iteration 8208\n"
     ]
    },
    {
     "name": "stderr",
     "output_type": "stream",
     "text": [
      "114it [00:05, 22.19it/s]                                                                                           \n",
      "Current loss: 0.0036: : 29it [00:00, 42.77it/s]                                                                    \n"
     ]
    },
    {
     "name": "stdout",
     "output_type": "stream",
     "text": [
      "VALIDATION FINISHED: LOSS: 0.0036051509970124684\n",
      "Saving model...\n",
      "Training one epoch from iteration 8322\n"
     ]
    },
    {
     "name": "stderr",
     "output_type": "stream",
     "text": [
      "114it [00:05, 22.47it/s]                                                                                           \n",
      "Current loss: 0.0037: : 29it [00:00, 41.64it/s]                                                                    \n"
     ]
    },
    {
     "name": "stdout",
     "output_type": "stream",
     "text": [
      "VALIDATION FINISHED: LOSS: 0.003666003828804041\n",
      "Saving model...\n",
      "Training one epoch from iteration 8436\n"
     ]
    },
    {
     "name": "stderr",
     "output_type": "stream",
     "text": [
      "114it [00:05, 22.11it/s]                                                                                           \n",
      "Current loss: 0.0036: : 29it [00:00, 42.46it/s]                                                                    \n"
     ]
    },
    {
     "name": "stdout",
     "output_type": "stream",
     "text": [
      "VALIDATION FINISHED: LOSS: 0.003601411038383456\n",
      "Saving model...\n",
      "Training one epoch from iteration 8550\n"
     ]
    },
    {
     "name": "stderr",
     "output_type": "stream",
     "text": [
      "114it [00:05, 22.48it/s]                                                                                           \n",
      "Current loss: 0.0036: : 29it [00:00, 43.08it/s]                                                                    \n"
     ]
    },
    {
     "name": "stdout",
     "output_type": "stream",
     "text": [
      "VALIDATION FINISHED: LOSS: 0.003568984329266922\n",
      "Saving model...\n",
      "Training one epoch from iteration 8664\n"
     ]
    },
    {
     "name": "stderr",
     "output_type": "stream",
     "text": [
      "114it [00:05, 22.17it/s]                                                                                           \n",
      "Current loss: 0.0035: : 29it [00:00, 42.37it/s]                                                                    \n"
     ]
    },
    {
     "name": "stdout",
     "output_type": "stream",
     "text": [
      "VALIDATION FINISHED: LOSS: 0.003490873412750983\n",
      "Saving model...\n",
      "Training one epoch from iteration 8778\n"
     ]
    },
    {
     "name": "stderr",
     "output_type": "stream",
     "text": [
      "114it [00:05, 22.47it/s]                                                                                           \n",
      "Current loss: 0.0036: : 29it [00:00, 42.99it/s]                                                                    \n"
     ]
    },
    {
     "name": "stdout",
     "output_type": "stream",
     "text": [
      "VALIDATION FINISHED: LOSS: 0.0035533649392289523\n",
      "Saving model...\n",
      "Training one epoch from iteration 8892\n"
     ]
    },
    {
     "name": "stderr",
     "output_type": "stream",
     "text": [
      "114it [00:05, 22.20it/s]                                                                                           \n",
      "Current loss: 0.0034: : 29it [00:00, 42.65it/s]                                                                    \n"
     ]
    },
    {
     "name": "stdout",
     "output_type": "stream",
     "text": [
      "VALIDATION FINISHED: LOSS: 0.0034324994314750977\n",
      "Saving model...\n",
      "Training one epoch from iteration 9006\n"
     ]
    },
    {
     "name": "stderr",
     "output_type": "stream",
     "text": [
      "114it [00:05, 22.48it/s]                                                                                           \n",
      "Current loss: 0.0038: : 29it [00:00, 42.44it/s]                                                                    \n"
     ]
    },
    {
     "name": "stdout",
     "output_type": "stream",
     "text": [
      "VALIDATION FINISHED: LOSS: 0.0037584275244092894\n",
      "Saving model...\n",
      "Training one epoch from iteration 9120\n"
     ]
    },
    {
     "name": "stderr",
     "output_type": "stream",
     "text": [
      "114it [00:05, 22.18it/s]                                                                                           \n",
      "Current loss: 0.0035: : 29it [00:00, 43.27it/s]                                                                    \n"
     ]
    },
    {
     "name": "stdout",
     "output_type": "stream",
     "text": [
      "VALIDATION FINISHED: LOSS: 0.0035431541056886056\n",
      "Saving model...\n",
      "Training one epoch from iteration 9234\n"
     ]
    },
    {
     "name": "stderr",
     "output_type": "stream",
     "text": [
      "114it [00:05, 22.41it/s]                                                                                           \n",
      "Current loss: 0.0036: : 29it [00:00, 43.10it/s]                                                                    \n"
     ]
    },
    {
     "name": "stdout",
     "output_type": "stream",
     "text": [
      "VALIDATION FINISHED: LOSS: 0.0035755972554586055\n",
      "Saving model...\n",
      "Training one epoch from iteration 9348\n"
     ]
    },
    {
     "name": "stderr",
     "output_type": "stream",
     "text": [
      "114it [00:05, 22.19it/s]                                                                                           \n",
      "Current loss: 0.0036: : 29it [00:00, 42.27it/s]                                                                    \n"
     ]
    },
    {
     "name": "stdout",
     "output_type": "stream",
     "text": [
      "VALIDATION FINISHED: LOSS: 0.003612545220550664\n",
      "Saving model...\n",
      "Training one epoch from iteration 9462\n"
     ]
    },
    {
     "name": "stderr",
     "output_type": "stream",
     "text": [
      "114it [00:05, 22.48it/s]                                                                                           \n",
      "Current loss: 0.0034: : 29it [00:00, 42.43it/s]                                                                    \n"
     ]
    },
    {
     "name": "stdout",
     "output_type": "stream",
     "text": [
      "VALIDATION FINISHED: LOSS: 0.0033891874276189907\n",
      "MODEL IMPROVED ON VALIDATION SET!\n",
      "Saving model...\n",
      "Training one epoch from iteration 9576\n"
     ]
    },
    {
     "name": "stderr",
     "output_type": "stream",
     "text": [
      "114it [00:05, 22.20it/s]                                                                                           \n",
      "Current loss: 0.0034: : 29it [00:00, 42.77it/s]                                                                    \n"
     ]
    },
    {
     "name": "stdout",
     "output_type": "stream",
     "text": [
      "VALIDATION FINISHED: LOSS: 0.0033664537637879887\n",
      "MODEL IMPROVED ON VALIDATION SET!\n",
      "Removing old file /home/aarbuzov/work-and-study/git/Wave-U-Net-Pytorch/checkpoints/checkpoint_9576\n",
      "Saving model...\n",
      "Training one epoch from iteration 9690\n"
     ]
    },
    {
     "name": "stderr",
     "output_type": "stream",
     "text": [
      "114it [00:05, 22.45it/s]                                                                                           \n",
      "Current loss: 0.0033: : 29it [00:00, 43.02it/s]                                                                    \n"
     ]
    },
    {
     "name": "stdout",
     "output_type": "stream",
     "text": [
      "VALIDATION FINISHED: LOSS: 0.003312884515817759\n",
      "MODEL IMPROVED ON VALIDATION SET!\n",
      "Removing old file /home/aarbuzov/work-and-study/git/Wave-U-Net-Pytorch/checkpoints/checkpoint_9690\n",
      "Saving model...\n",
      "Training one epoch from iteration 9804\n"
     ]
    },
    {
     "name": "stderr",
     "output_type": "stream",
     "text": [
      "114it [00:05, 22.17it/s]                                                                                           \n",
      "Current loss: 0.0034: : 29it [00:00, 43.03it/s]                                                                    \n"
     ]
    },
    {
     "name": "stdout",
     "output_type": "stream",
     "text": [
      "VALIDATION FINISHED: LOSS: 0.0033778973352284465\n",
      "Removing old file /home/aarbuzov/work-and-study/git/Wave-U-Net-Pytorch/checkpoints/checkpoint_9804\n",
      "Saving model...\n",
      "Training one epoch from iteration 9918\n"
     ]
    },
    {
     "name": "stderr",
     "output_type": "stream",
     "text": [
      "114it [00:05, 22.46it/s]                                                                                           \n",
      "Current loss: 0.0034: : 29it [00:00, 43.06it/s]                                                                    \n"
     ]
    },
    {
     "name": "stdout",
     "output_type": "stream",
     "text": [
      "VALIDATION FINISHED: LOSS: 0.0034310313931200653\n",
      "Saving model...\n",
      "Training one epoch from iteration 10032\n"
     ]
    },
    {
     "name": "stderr",
     "output_type": "stream",
     "text": [
      "114it [00:05, 22.23it/s]                                                                                           \n",
      "Current loss: 0.0032: : 29it [00:00, 41.95it/s]                                                                    \n"
     ]
    },
    {
     "name": "stdout",
     "output_type": "stream",
     "text": [
      "VALIDATION FINISHED: LOSS: 0.0032102632981620667\n",
      "MODEL IMPROVED ON VALIDATION SET!\n",
      "Saving model...\n",
      "Training one epoch from iteration 10146\n"
     ]
    },
    {
     "name": "stderr",
     "output_type": "stream",
     "text": [
      "114it [00:05, 22.41it/s]                                                                                           \n",
      "Current loss: 0.0036: : 29it [00:00, 42.89it/s]                                                                    \n"
     ]
    },
    {
     "name": "stdout",
     "output_type": "stream",
     "text": [
      "VALIDATION FINISHED: LOSS: 0.0036129766446939696\n",
      "Removing old file /home/aarbuzov/work-and-study/git/Wave-U-Net-Pytorch/checkpoints/checkpoint_10146\n",
      "Saving model...\n",
      "Training one epoch from iteration 10260\n"
     ]
    },
    {
     "name": "stderr",
     "output_type": "stream",
     "text": [
      "114it [00:05, 22.12it/s]                                                                                           \n",
      "Current loss: 0.0034: : 29it [00:00, 42.87it/s]                                                                    \n"
     ]
    },
    {
     "name": "stdout",
     "output_type": "stream",
     "text": [
      "VALIDATION FINISHED: LOSS: 0.0034366533138130892\n",
      "Saving model...\n",
      "Training one epoch from iteration 10374\n"
     ]
    },
    {
     "name": "stderr",
     "output_type": "stream",
     "text": [
      "114it [00:05, 22.52it/s]                                                                                           \n",
      "Current loss: 0.0033: : 29it [00:00, 43.17it/s]                                                                    \n"
     ]
    },
    {
     "name": "stdout",
     "output_type": "stream",
     "text": [
      "VALIDATION FINISHED: LOSS: 0.003334281628887201\n",
      "Saving model...\n",
      "Training one epoch from iteration 10488\n"
     ]
    },
    {
     "name": "stderr",
     "output_type": "stream",
     "text": [
      "114it [00:05, 22.22it/s]                                                                                           \n",
      "Current loss: 0.0034: : 29it [00:00, 43.17it/s]                                                                    \n"
     ]
    },
    {
     "name": "stdout",
     "output_type": "stream",
     "text": [
      "VALIDATION FINISHED: LOSS: 0.003385661122718312\n",
      "Saving model...\n",
      "Training one epoch from iteration 10602\n"
     ]
    },
    {
     "name": "stderr",
     "output_type": "stream",
     "text": [
      "114it [00:05, 22.49it/s]                                                                                           \n",
      "Current loss: 0.0033: : 29it [00:00, 43.05it/s]                                                                    \n"
     ]
    },
    {
     "name": "stdout",
     "output_type": "stream",
     "text": [
      "VALIDATION FINISHED: LOSS: 0.0033413493907448414\n",
      "Saving model...\n",
      "Training one epoch from iteration 10716\n"
     ]
    },
    {
     "name": "stderr",
     "output_type": "stream",
     "text": [
      "114it [00:05, 22.17it/s]                                                                                           \n",
      "Current loss: 0.0033: : 29it [00:00, 42.87it/s]                                                                    \n"
     ]
    },
    {
     "name": "stdout",
     "output_type": "stream",
     "text": [
      "VALIDATION FINISHED: LOSS: 0.003282332878182481\n",
      "Saving model...\n",
      "Training one epoch from iteration 10830\n"
     ]
    },
    {
     "name": "stderr",
     "output_type": "stream",
     "text": [
      "114it [00:05, 22.41it/s]                                                                                           \n",
      "Current loss: 0.0031: : 29it [00:00, 43.01it/s]                                                                    \n"
     ]
    },
    {
     "name": "stdout",
     "output_type": "stream",
     "text": [
      "VALIDATION FINISHED: LOSS: 0.003144267007632278\n",
      "MODEL IMPROVED ON VALIDATION SET!\n",
      "Saving model...\n",
      "Training one epoch from iteration 10944\n"
     ]
    },
    {
     "name": "stderr",
     "output_type": "stream",
     "text": [
      "114it [00:05, 22.10it/s]                                                                                           \n",
      "Current loss: 0.0036: : 29it [00:00, 42.54it/s]                                                                    \n"
     ]
    },
    {
     "name": "stdout",
     "output_type": "stream",
     "text": [
      "VALIDATION FINISHED: LOSS: 0.003590800810468801\n",
      "Removing old file /home/aarbuzov/work-and-study/git/Wave-U-Net-Pytorch/checkpoints/checkpoint_10944\n",
      "Saving model...\n",
      "Training one epoch from iteration 11058\n"
     ]
    },
    {
     "name": "stderr",
     "output_type": "stream",
     "text": [
      "114it [00:05, 22.37it/s]                                                                                           \n",
      "Current loss: 0.0035: : 29it [00:00, 43.13it/s]                                                                    \n"
     ]
    },
    {
     "name": "stdout",
     "output_type": "stream",
     "text": [
      "VALIDATION FINISHED: LOSS: 0.0034774803257434923\n",
      "Saving model...\n",
      "Training one epoch from iteration 11172\n"
     ]
    },
    {
     "name": "stderr",
     "output_type": "stream",
     "text": [
      "114it [00:05, 22.23it/s]                                                                                           \n",
      "Current loss: 0.0035: : 29it [00:00, 42.68it/s]                                                                    \n"
     ]
    },
    {
     "name": "stdout",
     "output_type": "stream",
     "text": [
      "VALIDATION FINISHED: LOSS: 0.003494063064110755\n",
      "Saving model...\n",
      "Training one epoch from iteration 11286\n"
     ]
    },
    {
     "name": "stderr",
     "output_type": "stream",
     "text": [
      "114it [00:05, 22.46it/s]                                                                                           \n",
      "Current loss: 0.0034: : 29it [00:00, 42.81it/s]                                                                    \n"
     ]
    },
    {
     "name": "stdout",
     "output_type": "stream",
     "text": [
      "VALIDATION FINISHED: LOSS: 0.003381749980376455\n",
      "Saving model...\n",
      "Training one epoch from iteration 11400\n"
     ]
    },
    {
     "name": "stderr",
     "output_type": "stream",
     "text": [
      "114it [00:05, 22.15it/s]                                                                                           \n",
      "Current loss: 0.0031: : 29it [00:00, 43.10it/s]                                                                    \n"
     ]
    },
    {
     "name": "stdout",
     "output_type": "stream",
     "text": [
      "VALIDATION FINISHED: LOSS: 0.00314205952675146\n",
      "MODEL IMPROVED ON VALIDATION SET!\n",
      "Saving model...\n",
      "Training one epoch from iteration 11514\n"
     ]
    },
    {
     "name": "stderr",
     "output_type": "stream",
     "text": [
      "114it [00:05, 22.54it/s]                                                                                           \n",
      "Current loss: 0.0030: : 29it [00:00, 42.92it/s]                                                                    \n"
     ]
    },
    {
     "name": "stdout",
     "output_type": "stream",
     "text": [
      "VALIDATION FINISHED: LOSS: 0.0029982507423545906\n",
      "MODEL IMPROVED ON VALIDATION SET!\n",
      "Removing old file /home/aarbuzov/work-and-study/git/Wave-U-Net-Pytorch/checkpoints/checkpoint_11514\n",
      "Saving model...\n",
      "Training one epoch from iteration 11628\n"
     ]
    },
    {
     "name": "stderr",
     "output_type": "stream",
     "text": [
      "114it [00:05, 22.20it/s]                                                                                           \n",
      "Current loss: 0.0030: : 29it [00:00, 42.76it/s]                                                                    \n"
     ]
    },
    {
     "name": "stdout",
     "output_type": "stream",
     "text": [
      "VALIDATION FINISHED: LOSS: 0.0030380029969945036\n",
      "Removing old file /home/aarbuzov/work-and-study/git/Wave-U-Net-Pytorch/checkpoints/checkpoint_11628\n",
      "Saving model...\n",
      "Training one epoch from iteration 11742\n"
     ]
    },
    {
     "name": "stderr",
     "output_type": "stream",
     "text": [
      "114it [00:05, 22.44it/s]                                                                                           \n",
      "Current loss: 0.0032: : 29it [00:00, 42.40it/s]                                                                    \n"
     ]
    },
    {
     "name": "stdout",
     "output_type": "stream",
     "text": [
      "VALIDATION FINISHED: LOSS: 0.003190964940084337\n",
      "Saving model...\n",
      "Training one epoch from iteration 11856\n"
     ]
    },
    {
     "name": "stderr",
     "output_type": "stream",
     "text": [
      "114it [00:05, 22.26it/s]                                                                                           \n",
      "Current loss: 0.0031: : 29it [00:00, 42.87it/s]                                                                    \n"
     ]
    },
    {
     "name": "stdout",
     "output_type": "stream",
     "text": [
      "VALIDATION FINISHED: LOSS: 0.0030775926445193343\n",
      "Saving model...\n",
      "Training one epoch from iteration 11970\n"
     ]
    },
    {
     "name": "stderr",
     "output_type": "stream",
     "text": [
      "114it [00:05, 22.48it/s]                                                                                           \n",
      "Current loss: 0.0031: : 29it [00:00, 42.96it/s]                                                                    \n"
     ]
    },
    {
     "name": "stdout",
     "output_type": "stream",
     "text": [
      "VALIDATION FINISHED: LOSS: 0.003095248262478232\n",
      "Saving model...\n",
      "Training one epoch from iteration 12084\n"
     ]
    },
    {
     "name": "stderr",
     "output_type": "stream",
     "text": [
      "114it [00:05, 22.26it/s]                                                                                           \n",
      "Current loss: 0.0029: : 29it [00:00, 42.75it/s]                                                                    \n"
     ]
    },
    {
     "name": "stdout",
     "output_type": "stream",
     "text": [
      "VALIDATION FINISHED: LOSS: 0.0029441084550163735\n",
      "MODEL IMPROVED ON VALIDATION SET!\n",
      "Saving model...\n",
      "Training one epoch from iteration 12198\n"
     ]
    },
    {
     "name": "stderr",
     "output_type": "stream",
     "text": [
      "114it [00:05, 22.53it/s]                                                                                           \n",
      "Current loss: 0.0032: : 29it [00:00, 42.45it/s]                                                                    \n"
     ]
    },
    {
     "name": "stdout",
     "output_type": "stream",
     "text": [
      "VALIDATION FINISHED: LOSS: 0.0031774302167769776\n",
      "Removing old file /home/aarbuzov/work-and-study/git/Wave-U-Net-Pytorch/checkpoints/checkpoint_12198\n",
      "Saving model...\n",
      "Training one epoch from iteration 12312\n"
     ]
    },
    {
     "name": "stderr",
     "output_type": "stream",
     "text": [
      "114it [00:05, 22.19it/s]                                                                                           \n",
      "Current loss: 0.0029: : 29it [00:00, 42.93it/s]                                                                    \n"
     ]
    },
    {
     "name": "stdout",
     "output_type": "stream",
     "text": [
      "VALIDATION FINISHED: LOSS: 0.0029024154290051107\n",
      "MODEL IMPROVED ON VALIDATION SET!\n",
      "Saving model...\n",
      "Training one epoch from iteration 12426\n"
     ]
    },
    {
     "name": "stderr",
     "output_type": "stream",
     "text": [
      "114it [00:05, 22.49it/s]                                                                                           \n",
      "Current loss: 0.0029: : 29it [00:00, 41.61it/s]                                                                    \n"
     ]
    },
    {
     "name": "stdout",
     "output_type": "stream",
     "text": [
      "VALIDATION FINISHED: LOSS: 0.002881938805863872\n",
      "MODEL IMPROVED ON VALIDATION SET!\n",
      "Removing old file /home/aarbuzov/work-and-study/git/Wave-U-Net-Pytorch/checkpoints/checkpoint_12426\n",
      "Saving model...\n",
      "Training one epoch from iteration 12540\n"
     ]
    },
    {
     "name": "stderr",
     "output_type": "stream",
     "text": [
      "114it [00:05, 22.17it/s]                                                                                           \n",
      "Current loss: 0.0028: : 29it [00:00, 42.54it/s]                                                                    \n"
     ]
    },
    {
     "name": "stdout",
     "output_type": "stream",
     "text": [
      "VALIDATION FINISHED: LOSS: 0.0027708508523887603\n",
      "MODEL IMPROVED ON VALIDATION SET!\n",
      "Removing old file /home/aarbuzov/work-and-study/git/Wave-U-Net-Pytorch/checkpoints/checkpoint_12540\n",
      "Saving model...\n",
      "Training one epoch from iteration 12654\n"
     ]
    },
    {
     "name": "stderr",
     "output_type": "stream",
     "text": [
      "114it [00:05, 22.30it/s]                                                                                           \n",
      "Current loss: 0.0027: : 29it [00:00, 42.43it/s]                                                                    \n"
     ]
    },
    {
     "name": "stdout",
     "output_type": "stream",
     "text": [
      "VALIDATION FINISHED: LOSS: 0.002707863452338517\n",
      "MODEL IMPROVED ON VALIDATION SET!\n",
      "Removing old file /home/aarbuzov/work-and-study/git/Wave-U-Net-Pytorch/checkpoints/checkpoint_12654\n",
      "Saving model...\n",
      "Training one epoch from iteration 12768\n"
     ]
    },
    {
     "name": "stderr",
     "output_type": "stream",
     "text": [
      "114it [00:05, 22.23it/s]                                                                                           \n",
      "Current loss: 0.0029: : 29it [00:00, 43.24it/s]                                                                    \n"
     ]
    },
    {
     "name": "stdout",
     "output_type": "stream",
     "text": [
      "VALIDATION FINISHED: LOSS: 0.002919017603211426\n",
      "Removing old file /home/aarbuzov/work-and-study/git/Wave-U-Net-Pytorch/checkpoints/checkpoint_12768\n",
      "Saving model...\n",
      "Training one epoch from iteration 12882\n"
     ]
    },
    {
     "name": "stderr",
     "output_type": "stream",
     "text": [
      "114it [00:05, 22.45it/s]                                                                                           \n",
      "Current loss: 0.0027: : 29it [00:00, 43.04it/s]                                                                    \n"
     ]
    },
    {
     "name": "stdout",
     "output_type": "stream",
     "text": [
      "VALIDATION FINISHED: LOSS: 0.0026945632612453137\n",
      "MODEL IMPROVED ON VALIDATION SET!\n",
      "Saving model...\n",
      "Training one epoch from iteration 12996\n"
     ]
    },
    {
     "name": "stderr",
     "output_type": "stream",
     "text": [
      "114it [00:05, 22.14it/s]                                                                                           \n",
      "Current loss: 0.0027: : 29it [00:00, 42.88it/s]                                                                    \n"
     ]
    },
    {
     "name": "stdout",
     "output_type": "stream",
     "text": [
      "VALIDATION FINISHED: LOSS: 0.0027404473331789003\n",
      "Removing old file /home/aarbuzov/work-and-study/git/Wave-U-Net-Pytorch/checkpoints/checkpoint_12996\n",
      "Saving model...\n",
      "Training one epoch from iteration 13110\n"
     ]
    },
    {
     "name": "stderr",
     "output_type": "stream",
     "text": [
      "114it [00:05, 22.40it/s]                                                                                           \n",
      "Current loss: 0.0029: : 29it [00:00, 41.76it/s]                                                                    \n"
     ]
    },
    {
     "name": "stdout",
     "output_type": "stream",
     "text": [
      "VALIDATION FINISHED: LOSS: 0.002885594946966539\n",
      "Saving model...\n",
      "Training one epoch from iteration 13224\n"
     ]
    },
    {
     "name": "stderr",
     "output_type": "stream",
     "text": [
      "114it [00:05, 22.16it/s]                                                                                           \n",
      "Current loss: 0.0028: : 29it [00:00, 42.97it/s]                                                                    \n"
     ]
    },
    {
     "name": "stdout",
     "output_type": "stream",
     "text": [
      "VALIDATION FINISHED: LOSS: 0.0027835482043005394\n",
      "Saving model...\n",
      "Training one epoch from iteration 13338\n"
     ]
    },
    {
     "name": "stderr",
     "output_type": "stream",
     "text": [
      "114it [00:05, 22.43it/s]                                                                                           \n",
      "Current loss: 0.0027: : 29it [00:00, 42.63it/s]                                                                    \n"
     ]
    },
    {
     "name": "stdout",
     "output_type": "stream",
     "text": [
      "VALIDATION FINISHED: LOSS: 0.0027344497091313503\n",
      "Saving model...\n",
      "Training one epoch from iteration 13452\n"
     ]
    },
    {
     "name": "stderr",
     "output_type": "stream",
     "text": [
      "114it [00:05, 22.24it/s]                                                                                           \n",
      "Current loss: 0.0026: : 29it [00:00, 42.71it/s]                                                                    \n"
     ]
    },
    {
     "name": "stdout",
     "output_type": "stream",
     "text": [
      "VALIDATION FINISHED: LOSS: 0.0026257594130082245\n",
      "MODEL IMPROVED ON VALIDATION SET!\n",
      "Saving model...\n",
      "Training one epoch from iteration 13566\n"
     ]
    },
    {
     "name": "stderr",
     "output_type": "stream",
     "text": [
      "114it [00:05, 22.46it/s]                                                                                           \n",
      "Current loss: 0.0026: : 29it [00:00, 42.93it/s]                                                                    \n"
     ]
    },
    {
     "name": "stdout",
     "output_type": "stream",
     "text": [
      "VALIDATION FINISHED: LOSS: 0.0026197044233036834\n",
      "MODEL IMPROVED ON VALIDATION SET!\n",
      "Removing old file /home/aarbuzov/work-and-study/git/Wave-U-Net-Pytorch/checkpoints/checkpoint_13566\n",
      "Saving model...\n",
      "Training one epoch from iteration 13680\n"
     ]
    },
    {
     "name": "stderr",
     "output_type": "stream",
     "text": [
      "114it [00:05, 22.17it/s]                                                                                           \n",
      "Current loss: 0.0026: : 29it [00:00, 42.98it/s]                                                                    \n"
     ]
    },
    {
     "name": "stdout",
     "output_type": "stream",
     "text": [
      "VALIDATION FINISHED: LOSS: 0.0025880522353590694\n",
      "MODEL IMPROVED ON VALIDATION SET!\n",
      "Removing old file /home/aarbuzov/work-and-study/git/Wave-U-Net-Pytorch/checkpoints/checkpoint_13680\n",
      "Saving model...\n",
      "Training one epoch from iteration 13794\n"
     ]
    },
    {
     "name": "stderr",
     "output_type": "stream",
     "text": [
      "114it [00:05, 22.48it/s]                                                                                           \n",
      "Current loss: 0.0025: : 29it [00:00, 42.53it/s]                                                                    \n"
     ]
    },
    {
     "name": "stdout",
     "output_type": "stream",
     "text": [
      "VALIDATION FINISHED: LOSS: 0.0025419029362042083\n",
      "MODEL IMPROVED ON VALIDATION SET!\n",
      "Removing old file /home/aarbuzov/work-and-study/git/Wave-U-Net-Pytorch/checkpoints/checkpoint_13794\n",
      "Saving model...\n",
      "Training one epoch from iteration 13908\n"
     ]
    },
    {
     "name": "stderr",
     "output_type": "stream",
     "text": [
      "114it [00:05, 22.23it/s]                                                                                           \n",
      "Current loss: 0.0029: : 29it [00:00, 42.65it/s]                                                                    \n"
     ]
    },
    {
     "name": "stdout",
     "output_type": "stream",
     "text": [
      "VALIDATION FINISHED: LOSS: 0.002934713344137859\n",
      "Removing old file /home/aarbuzov/work-and-study/git/Wave-U-Net-Pytorch/checkpoints/checkpoint_13908\n",
      "Saving model...\n",
      "Training one epoch from iteration 14022\n"
     ]
    },
    {
     "name": "stderr",
     "output_type": "stream",
     "text": [
      "114it [00:05, 22.49it/s]                                                                                           \n",
      "Current loss: 0.0031: : 29it [00:00, 42.17it/s]                                                                    \n"
     ]
    },
    {
     "name": "stdout",
     "output_type": "stream",
     "text": [
      "VALIDATION FINISHED: LOSS: 0.003123201455435201\n",
      "Saving model...\n",
      "Training one epoch from iteration 14136\n"
     ]
    },
    {
     "name": "stderr",
     "output_type": "stream",
     "text": [
      "114it [00:05, 22.21it/s]                                                                                           \n",
      "Current loss: 0.0026: : 29it [00:00, 43.06it/s]                                                                    \n"
     ]
    },
    {
     "name": "stdout",
     "output_type": "stream",
     "text": [
      "VALIDATION FINISHED: LOSS: 0.002642743373269633\n",
      "Saving model...\n",
      "Training one epoch from iteration 14250\n"
     ]
    },
    {
     "name": "stderr",
     "output_type": "stream",
     "text": [
      "114it [00:05, 22.47it/s]                                                                                           \n",
      "Current loss: 0.0026: : 29it [00:00, 43.30it/s]                                                                    \n"
     ]
    },
    {
     "name": "stdout",
     "output_type": "stream",
     "text": [
      "VALIDATION FINISHED: LOSS: 0.002605139108772132\n",
      "Saving model...\n",
      "Training one epoch from iteration 14364\n"
     ]
    },
    {
     "name": "stderr",
     "output_type": "stream",
     "text": [
      "114it [00:05, 22.22it/s]                                                                                           \n",
      "Current loss: 0.0026: : 29it [00:00, 43.00it/s]                                                                    \n"
     ]
    },
    {
     "name": "stdout",
     "output_type": "stream",
     "text": [
      "VALIDATION FINISHED: LOSS: 0.002569637959321222\n",
      "Saving model...\n",
      "Training one epoch from iteration 14478\n"
     ]
    },
    {
     "name": "stderr",
     "output_type": "stream",
     "text": [
      "114it [00:05, 22.43it/s]                                                                                           \n",
      "Current loss: 0.0025: : 29it [00:00, 43.07it/s]                                                                    \n"
     ]
    },
    {
     "name": "stdout",
     "output_type": "stream",
     "text": [
      "VALIDATION FINISHED: LOSS: 0.0025032472486631813\n",
      "MODEL IMPROVED ON VALIDATION SET!\n",
      "Saving model...\n",
      "Training one epoch from iteration 14592\n"
     ]
    },
    {
     "name": "stderr",
     "output_type": "stream",
     "text": [
      "114it [00:05, 22.12it/s]                                                                                           \n",
      "Current loss: 0.0026: : 29it [00:00, 42.95it/s]                                                                    \n"
     ]
    },
    {
     "name": "stdout",
     "output_type": "stream",
     "text": [
      "VALIDATION FINISHED: LOSS: 0.0025930331868384477\n",
      "Removing old file /home/aarbuzov/work-and-study/git/Wave-U-Net-Pytorch/checkpoints/checkpoint_14592\n",
      "Saving model...\n",
      "Training one epoch from iteration 14706\n"
     ]
    },
    {
     "name": "stderr",
     "output_type": "stream",
     "text": [
      "114it [00:05, 22.47it/s]                                                                                           \n",
      "Current loss: 0.0025: : 29it [00:00, 42.87it/s]                                                                    \n"
     ]
    },
    {
     "name": "stdout",
     "output_type": "stream",
     "text": [
      "VALIDATION FINISHED: LOSS: 0.0024561698940895695\n",
      "MODEL IMPROVED ON VALIDATION SET!\n",
      "Saving model...\n",
      "Training one epoch from iteration 14820\n"
     ]
    },
    {
     "name": "stderr",
     "output_type": "stream",
     "text": [
      "114it [00:05, 22.22it/s]                                                                                           \n",
      "Current loss: 0.0026: : 29it [00:00, 43.04it/s]                                                                    \n"
     ]
    },
    {
     "name": "stdout",
     "output_type": "stream",
     "text": [
      "VALIDATION FINISHED: LOSS: 0.002623273395423392\n",
      "Removing old file /home/aarbuzov/work-and-study/git/Wave-U-Net-Pytorch/checkpoints/checkpoint_14820\n",
      "Saving model...\n",
      "Training one epoch from iteration 14934\n"
     ]
    },
    {
     "name": "stderr",
     "output_type": "stream",
     "text": [
      "114it [00:05, 22.52it/s]                                                                                           \n",
      "Current loss: 0.0024: : 29it [00:00, 42.16it/s]                                                                    \n"
     ]
    },
    {
     "name": "stdout",
     "output_type": "stream",
     "text": [
      "VALIDATION FINISHED: LOSS: 0.0024399336631678783\n",
      "MODEL IMPROVED ON VALIDATION SET!\n",
      "Saving model...\n",
      "Training one epoch from iteration 15048\n"
     ]
    },
    {
     "name": "stderr",
     "output_type": "stream",
     "text": [
      "114it [00:05, 22.20it/s]                                                                                           \n",
      "Current loss: 0.0027: : 29it [00:00, 43.08it/s]                                                                    \n"
     ]
    },
    {
     "name": "stdout",
     "output_type": "stream",
     "text": [
      "VALIDATION FINISHED: LOSS: 0.0027356389297798663\n",
      "Removing old file /home/aarbuzov/work-and-study/git/Wave-U-Net-Pytorch/checkpoints/checkpoint_15048\n",
      "Saving model...\n",
      "Training one epoch from iteration 15162\n"
     ]
    },
    {
     "name": "stderr",
     "output_type": "stream",
     "text": [
      "114it [00:05, 22.46it/s]                                                                                           \n",
      "Current loss: 0.0025: : 29it [00:00, 42.49it/s]                                                                    \n"
     ]
    },
    {
     "name": "stdout",
     "output_type": "stream",
     "text": [
      "VALIDATION FINISHED: LOSS: 0.0024625565585728484\n",
      "Saving model...\n",
      "Training one epoch from iteration 15276\n"
     ]
    },
    {
     "name": "stderr",
     "output_type": "stream",
     "text": [
      "114it [00:05, 22.21it/s]                                                                                           \n",
      "Current loss: 0.0026: : 29it [00:00, 42.84it/s]                                                                    \n"
     ]
    },
    {
     "name": "stdout",
     "output_type": "stream",
     "text": [
      "VALIDATION FINISHED: LOSS: 0.002572225957229766\n",
      "Saving model...\n",
      "Training one epoch from iteration 15390\n"
     ]
    },
    {
     "name": "stderr",
     "output_type": "stream",
     "text": [
      "114it [00:05, 22.47it/s]                                                                                           \n",
      "Current loss: 0.0024: : 29it [00:00, 42.92it/s]                                                                    \n"
     ]
    },
    {
     "name": "stdout",
     "output_type": "stream",
     "text": [
      "VALIDATION FINISHED: LOSS: 0.0023671505769016217\n",
      "MODEL IMPROVED ON VALIDATION SET!\n",
      "Saving model...\n",
      "Training one epoch from iteration 15504\n"
     ]
    },
    {
     "name": "stderr",
     "output_type": "stream",
     "text": [
      "114it [00:05, 22.27it/s]                                                                                           \n",
      "Current loss: 0.0025: : 29it [00:00, 42.74it/s]                                                                    \n"
     ]
    },
    {
     "name": "stdout",
     "output_type": "stream",
     "text": [
      "VALIDATION FINISHED: LOSS: 0.0024668969262134403\n",
      "Removing old file /home/aarbuzov/work-and-study/git/Wave-U-Net-Pytorch/checkpoints/checkpoint_15504\n",
      "Saving model...\n",
      "Training one epoch from iteration 15618\n"
     ]
    },
    {
     "name": "stderr",
     "output_type": "stream",
     "text": [
      "114it [00:05, 22.44it/s]                                                                                           \n",
      "Current loss: 0.0025: : 29it [00:00, 43.12it/s]                                                                    \n"
     ]
    },
    {
     "name": "stdout",
     "output_type": "stream",
     "text": [
      "VALIDATION FINISHED: LOSS: 0.002475763675114461\n",
      "Saving model...\n",
      "Training one epoch from iteration 15732\n"
     ]
    },
    {
     "name": "stderr",
     "output_type": "stream",
     "text": [
      "114it [00:05, 22.22it/s]                                                                                           \n",
      "Current loss: 0.0024: : 29it [00:00, 43.02it/s]                                                                    \n"
     ]
    },
    {
     "name": "stdout",
     "output_type": "stream",
     "text": [
      "VALIDATION FINISHED: LOSS: 0.002448639787275922\n",
      "Saving model...\n",
      "Training one epoch from iteration 15846\n"
     ]
    },
    {
     "name": "stderr",
     "output_type": "stream",
     "text": [
      "114it [00:05, 22.49it/s]                                                                                           \n",
      "Current loss: 0.0024: : 29it [00:00, 42.84it/s]                                                                    \n"
     ]
    },
    {
     "name": "stdout",
     "output_type": "stream",
     "text": [
      "VALIDATION FINISHED: LOSS: 0.0023913056851095713\n",
      "Saving model...\n",
      "Training one epoch from iteration 15960\n"
     ]
    },
    {
     "name": "stderr",
     "output_type": "stream",
     "text": [
      "114it [00:05, 22.24it/s]                                                                                           \n",
      "Current loss: 0.0023: : 29it [00:00, 43.03it/s]                                                                    \n"
     ]
    },
    {
     "name": "stdout",
     "output_type": "stream",
     "text": [
      "VALIDATION FINISHED: LOSS: 0.0023381879973698987\n",
      "MODEL IMPROVED ON VALIDATION SET!\n",
      "Saving model...\n",
      "Training one epoch from iteration 16074\n"
     ]
    },
    {
     "name": "stderr",
     "output_type": "stream",
     "text": [
      "114it [00:05, 22.51it/s]                                                                                           \n",
      "Current loss: 0.0025: : 29it [00:00, 43.20it/s]                                                                    \n"
     ]
    },
    {
     "name": "stdout",
     "output_type": "stream",
     "text": [
      "VALIDATION FINISHED: LOSS: 0.002549186402104859\n",
      "Removing old file /home/aarbuzov/work-and-study/git/Wave-U-Net-Pytorch/checkpoints/checkpoint_16074\n",
      "Saving model...\n",
      "Training one epoch from iteration 16188\n"
     ]
    },
    {
     "name": "stderr",
     "output_type": "stream",
     "text": [
      "114it [00:05, 22.23it/s]                                                                                           \n",
      "Current loss: 0.0025: : 29it [00:00, 42.32it/s]                                                                    \n"
     ]
    },
    {
     "name": "stdout",
     "output_type": "stream",
     "text": [
      "VALIDATION FINISHED: LOSS: 0.0024874980053623554\n",
      "Saving model...\n",
      "Training one epoch from iteration 16302\n"
     ]
    },
    {
     "name": "stderr",
     "output_type": "stream",
     "text": [
      "114it [00:05, 22.48it/s]                                                                                           \n",
      "Current loss: 0.0024: : 29it [00:00, 43.17it/s]                                                                    \n"
     ]
    },
    {
     "name": "stdout",
     "output_type": "stream",
     "text": [
      "VALIDATION FINISHED: LOSS: 0.0024052211770924322\n",
      "Saving model...\n",
      "Training one epoch from iteration 16416\n"
     ]
    },
    {
     "name": "stderr",
     "output_type": "stream",
     "text": [
      "114it [00:05, 22.28it/s]                                                                                           \n",
      "Current loss: 0.0023: : 29it [00:00, 42.92it/s]                                                                    \n"
     ]
    },
    {
     "name": "stdout",
     "output_type": "stream",
     "text": [
      "VALIDATION FINISHED: LOSS: 0.0023016334006538746\n",
      "MODEL IMPROVED ON VALIDATION SET!\n",
      "Saving model...\n",
      "Training one epoch from iteration 16530\n"
     ]
    },
    {
     "name": "stderr",
     "output_type": "stream",
     "text": [
      "114it [00:05, 22.47it/s]                                                                                           \n",
      "Current loss: 0.0024: : 29it [00:00, 43.25it/s]                                                                    \n"
     ]
    },
    {
     "name": "stdout",
     "output_type": "stream",
     "text": [
      "VALIDATION FINISHED: LOSS: 0.002449168424736227\n",
      "Removing old file /home/aarbuzov/work-and-study/git/Wave-U-Net-Pytorch/checkpoints/checkpoint_16530\n",
      "Saving model...\n",
      "Training one epoch from iteration 16644\n"
     ]
    },
    {
     "name": "stderr",
     "output_type": "stream",
     "text": [
      "114it [00:05, 22.18it/s]                                                                                           \n",
      "Current loss: 0.0024: : 29it [00:00, 43.21it/s]                                                                    \n"
     ]
    },
    {
     "name": "stdout",
     "output_type": "stream",
     "text": [
      "VALIDATION FINISHED: LOSS: 0.0023847602514534033\n",
      "Saving model...\n",
      "Training one epoch from iteration 16758\n"
     ]
    },
    {
     "name": "stderr",
     "output_type": "stream",
     "text": [
      "114it [00:05, 22.40it/s]                                                                                           \n",
      "Current loss: 0.0026: : 29it [00:00, 41.65it/s]                                                                    \n"
     ]
    },
    {
     "name": "stdout",
     "output_type": "stream",
     "text": [
      "VALIDATION FINISHED: LOSS: 0.0025559946912710133\n",
      "Saving model...\n",
      "Training one epoch from iteration 16872\n"
     ]
    },
    {
     "name": "stderr",
     "output_type": "stream",
     "text": [
      "114it [00:05, 22.15it/s]                                                                                           \n",
      "Current loss: 0.0024: : 29it [00:00, 43.26it/s]                                                                    \n"
     ]
    },
    {
     "name": "stdout",
     "output_type": "stream",
     "text": [
      "VALIDATION FINISHED: LOSS: 0.002357791272766792\n",
      "Saving model...\n",
      "Training one epoch from iteration 16986\n"
     ]
    },
    {
     "name": "stderr",
     "output_type": "stream",
     "text": [
      "114it [00:05, 22.25it/s]                                                                                           \n",
      "Current loss: 0.0024: : 29it [00:00, 43.03it/s]                                                                    \n"
     ]
    },
    {
     "name": "stdout",
     "output_type": "stream",
     "text": [
      "VALIDATION FINISHED: LOSS: 0.0023951403343054505\n",
      "Saving model...\n",
      "Training one epoch from iteration 17100\n"
     ]
    },
    {
     "name": "stderr",
     "output_type": "stream",
     "text": [
      "114it [00:05, 22.22it/s]                                                                                           \n",
      "Current loss: 0.0024: : 29it [00:00, 42.91it/s]                                                                    \n"
     ]
    },
    {
     "name": "stdout",
     "output_type": "stream",
     "text": [
      "VALIDATION FINISHED: LOSS: 0.0024233642972580254\n",
      "Saving model...\n",
      "Training one epoch from iteration 17214\n"
     ]
    },
    {
     "name": "stderr",
     "output_type": "stream",
     "text": [
      "114it [00:05, 22.43it/s]                                                                                           \n",
      "Current loss: 0.0023: : 29it [00:00, 42.78it/s]                                                                    \n"
     ]
    },
    {
     "name": "stdout",
     "output_type": "stream",
     "text": [
      "VALIDATION FINISHED: LOSS: 0.002299819913881446\n",
      "MODEL IMPROVED ON VALIDATION SET!\n",
      "Saving model...\n",
      "Training one epoch from iteration 17328\n"
     ]
    },
    {
     "name": "stderr",
     "output_type": "stream",
     "text": [
      "114it [00:05, 22.22it/s]                                                                                           \n",
      "Current loss: 0.0022: : 29it [00:00, 42.36it/s]                                                                    \n"
     ]
    },
    {
     "name": "stdout",
     "output_type": "stream",
     "text": [
      "VALIDATION FINISHED: LOSS: 0.002222310234079989\n",
      "MODEL IMPROVED ON VALIDATION SET!\n",
      "Removing old file /home/aarbuzov/work-and-study/git/Wave-U-Net-Pytorch/checkpoints/checkpoint_17328\n",
      "Saving model...\n",
      "Training one epoch from iteration 17442\n"
     ]
    },
    {
     "name": "stderr",
     "output_type": "stream",
     "text": [
      "114it [00:05, 22.40it/s]                                                                                           \n",
      "Current loss: 0.0023: : 29it [00:00, 43.28it/s]                                                                    \n"
     ]
    },
    {
     "name": "stdout",
     "output_type": "stream",
     "text": [
      "VALIDATION FINISHED: LOSS: 0.002281572893793807\n",
      "Removing old file /home/aarbuzov/work-and-study/git/Wave-U-Net-Pytorch/checkpoints/checkpoint_17442\n",
      "Saving model...\n",
      "Training one epoch from iteration 17556\n"
     ]
    },
    {
     "name": "stderr",
     "output_type": "stream",
     "text": [
      "114it [00:05, 22.18it/s]                                                                                           \n",
      "Current loss: 0.0023: : 29it [00:00, 43.04it/s]                                                                    \n"
     ]
    },
    {
     "name": "stdout",
     "output_type": "stream",
     "text": [
      "VALIDATION FINISHED: LOSS: 0.002273496601164566\n",
      "Saving model...\n",
      "Training one epoch from iteration 17670\n"
     ]
    },
    {
     "name": "stderr",
     "output_type": "stream",
     "text": [
      "114it [00:05, 22.43it/s]                                                                                           \n",
      "Current loss: 0.0023: : 29it [00:00, 42.80it/s]                                                                    \n"
     ]
    },
    {
     "name": "stdout",
     "output_type": "stream",
     "text": [
      "VALIDATION FINISHED: LOSS: 0.0023243033456624134\n",
      "Saving model...\n",
      "Training one epoch from iteration 17784\n"
     ]
    },
    {
     "name": "stderr",
     "output_type": "stream",
     "text": [
      "114it [00:05, 22.19it/s]                                                                                           \n",
      "Current loss: 0.0023: : 29it [00:00, 42.92it/s]                                                                    \n"
     ]
    },
    {
     "name": "stdout",
     "output_type": "stream",
     "text": [
      "VALIDATION FINISHED: LOSS: 0.00226767199788371\n",
      "Saving model...\n",
      "Training one epoch from iteration 17898\n"
     ]
    },
    {
     "name": "stderr",
     "output_type": "stream",
     "text": [
      "114it [00:05, 22.44it/s]                                                                                           \n",
      "Current loss: 0.0022: : 29it [00:00, 42.98it/s]                                                                    \n"
     ]
    },
    {
     "name": "stdout",
     "output_type": "stream",
     "text": [
      "VALIDATION FINISHED: LOSS: 0.0022092332216963207\n",
      "MODEL IMPROVED ON VALIDATION SET!\n",
      "Saving model...\n",
      "Training one epoch from iteration 18012\n"
     ]
    },
    {
     "name": "stderr",
     "output_type": "stream",
     "text": [
      "114it [00:05, 22.17it/s]                                                                                           \n",
      "Current loss: 0.0023: : 29it [00:00, 42.94it/s]                                                                    \n"
     ]
    },
    {
     "name": "stdout",
     "output_type": "stream",
     "text": [
      "VALIDATION FINISHED: LOSS: 0.0022923209346180523\n",
      "Removing old file /home/aarbuzov/work-and-study/git/Wave-U-Net-Pytorch/checkpoints/checkpoint_18012\n",
      "Saving model...\n",
      "Training one epoch from iteration 18126\n"
     ]
    },
    {
     "name": "stderr",
     "output_type": "stream",
     "text": [
      "114it [00:05, 22.37it/s]                                                                                           \n",
      "Current loss: 0.0023: : 29it [00:00, 42.82it/s]                                                                    \n"
     ]
    },
    {
     "name": "stdout",
     "output_type": "stream",
     "text": [
      "VALIDATION FINISHED: LOSS: 0.002259010544391992\n",
      "Saving model...\n",
      "Training one epoch from iteration 18240\n"
     ]
    },
    {
     "name": "stderr",
     "output_type": "stream",
     "text": [
      "114it [00:05, 22.17it/s]                                                                                           \n",
      "Current loss: 0.0022: : 29it [00:00, 41.23it/s]                                                                    \n"
     ]
    },
    {
     "name": "stdout",
     "output_type": "stream",
     "text": [
      "VALIDATION FINISHED: LOSS: 0.0022247858239630844\n",
      "Saving model...\n",
      "Training one epoch from iteration 18354\n"
     ]
    },
    {
     "name": "stderr",
     "output_type": "stream",
     "text": [
      "114it [00:05, 22.45it/s]                                                                                           \n",
      "Current loss: 0.0022: : 29it [00:00, 43.03it/s]                                                                    \n"
     ]
    },
    {
     "name": "stdout",
     "output_type": "stream",
     "text": [
      "VALIDATION FINISHED: LOSS: 0.002232832644698772\n",
      "Saving model...\n",
      "Training one epoch from iteration 18468\n"
     ]
    },
    {
     "name": "stderr",
     "output_type": "stream",
     "text": [
      "114it [00:05, 22.25it/s]                                                                                           \n",
      "Current loss: 0.0022: : 29it [00:00, 41.20it/s]                                                                    \n"
     ]
    },
    {
     "name": "stdout",
     "output_type": "stream",
     "text": [
      "VALIDATION FINISHED: LOSS: 0.002220216039608329\n",
      "Saving model...\n",
      "Training one epoch from iteration 18582\n"
     ]
    },
    {
     "name": "stderr",
     "output_type": "stream",
     "text": [
      "114it [00:05, 22.45it/s]                                                                                           \n",
      "Current loss: 0.0023: : 29it [00:00, 43.00it/s]                                                                    \n"
     ]
    },
    {
     "name": "stdout",
     "output_type": "stream",
     "text": [
      "VALIDATION FINISHED: LOSS: 0.0023052622902845353\n",
      "Saving model...\n",
      "Training one epoch from iteration 18696\n"
     ]
    },
    {
     "name": "stderr",
     "output_type": "stream",
     "text": [
      "114it [00:05, 22.21it/s]                                                                                           \n",
      "Current loss: 0.0022: : 29it [00:00, 42.86it/s]                                                                    \n"
     ]
    },
    {
     "name": "stdout",
     "output_type": "stream",
     "text": [
      "VALIDATION FINISHED: LOSS: 0.0021718497476379927\n",
      "MODEL IMPROVED ON VALIDATION SET!\n",
      "Saving model...\n",
      "Training one epoch from iteration 18810\n"
     ]
    },
    {
     "name": "stderr",
     "output_type": "stream",
     "text": [
      "114it [00:05, 22.45it/s]                                                                                           \n",
      "Current loss: 0.0024: : 29it [00:00, 43.20it/s]                                                                    \n"
     ]
    },
    {
     "name": "stdout",
     "output_type": "stream",
     "text": [
      "VALIDATION FINISHED: LOSS: 0.0023674797738404496\n",
      "Removing old file /home/aarbuzov/work-and-study/git/Wave-U-Net-Pytorch/checkpoints/checkpoint_18810\n",
      "Saving model...\n",
      "Training one epoch from iteration 18924\n"
     ]
    },
    {
     "name": "stderr",
     "output_type": "stream",
     "text": [
      "114it [00:05, 22.15it/s]                                                                                           \n",
      "Current loss: 0.0023: : 29it [00:00, 42.43it/s]                                                                    \n"
     ]
    },
    {
     "name": "stdout",
     "output_type": "stream",
     "text": [
      "VALIDATION FINISHED: LOSS: 0.002341023524861846\n",
      "Saving model...\n",
      "Training one epoch from iteration 19038\n"
     ]
    },
    {
     "name": "stderr",
     "output_type": "stream",
     "text": [
      "114it [00:05, 22.52it/s]                                                                                           \n",
      "Current loss: 0.0023: : 29it [00:00, 42.89it/s]                                                                    \n"
     ]
    },
    {
     "name": "stdout",
     "output_type": "stream",
     "text": [
      "VALIDATION FINISHED: LOSS: 0.002297332281535812\n",
      "Saving model...\n",
      "Training one epoch from iteration 19152\n"
     ]
    },
    {
     "name": "stderr",
     "output_type": "stream",
     "text": [
      "114it [00:05, 22.21it/s]                                                                                           \n",
      "Current loss: 0.0022: : 29it [00:00, 42.95it/s]                                                                    \n"
     ]
    },
    {
     "name": "stdout",
     "output_type": "stream",
     "text": [
      "VALIDATION FINISHED: LOSS: 0.0021615927042399436\n",
      "MODEL IMPROVED ON VALIDATION SET!\n",
      "Saving model...\n",
      "Training one epoch from iteration 19266\n"
     ]
    },
    {
     "name": "stderr",
     "output_type": "stream",
     "text": [
      "114it [00:05, 22.47it/s]                                                                                           \n",
      "Current loss: 0.0021: : 29it [00:00, 42.83it/s]                                                                    \n"
     ]
    },
    {
     "name": "stdout",
     "output_type": "stream",
     "text": [
      "VALIDATION FINISHED: LOSS: 0.0021433465921416365\n",
      "MODEL IMPROVED ON VALIDATION SET!\n",
      "Removing old file /home/aarbuzov/work-and-study/git/Wave-U-Net-Pytorch/checkpoints/checkpoint_19266\n",
      "Saving model...\n",
      "Training one epoch from iteration 19380\n"
     ]
    },
    {
     "name": "stderr",
     "output_type": "stream",
     "text": [
      "114it [00:05, 22.21it/s]                                                                                           \n",
      "Current loss: 0.0021: : 29it [00:00, 42.92it/s]                                                                    \n"
     ]
    },
    {
     "name": "stdout",
     "output_type": "stream",
     "text": [
      "VALIDATION FINISHED: LOSS: 0.002103894819246589\n",
      "MODEL IMPROVED ON VALIDATION SET!\n",
      "Removing old file /home/aarbuzov/work-and-study/git/Wave-U-Net-Pytorch/checkpoints/checkpoint_19380\n",
      "Saving model...\n",
      "Training one epoch from iteration 19494\n"
     ]
    },
    {
     "name": "stderr",
     "output_type": "stream",
     "text": [
      "114it [00:05, 22.49it/s]                                                                                           \n",
      "Current loss: 0.0024: : 29it [00:00, 42.46it/s]                                                                    \n"
     ]
    },
    {
     "name": "stdout",
     "output_type": "stream",
     "text": [
      "VALIDATION FINISHED: LOSS: 0.0023862337447694863\n",
      "Removing old file /home/aarbuzov/work-and-study/git/Wave-U-Net-Pytorch/checkpoints/checkpoint_19494\n",
      "Saving model...\n",
      "Training one epoch from iteration 19608\n"
     ]
    },
    {
     "name": "stderr",
     "output_type": "stream",
     "text": [
      "114it [00:05, 22.21it/s]                                                                                           \n",
      "Current loss: 0.0022: : 29it [00:00, 42.62it/s]                                                                    \n"
     ]
    },
    {
     "name": "stdout",
     "output_type": "stream",
     "text": [
      "VALIDATION FINISHED: LOSS: 0.0022299814074107542\n",
      "Saving model...\n",
      "Training one epoch from iteration 19722\n"
     ]
    },
    {
     "name": "stderr",
     "output_type": "stream",
     "text": [
      "114it [00:05, 22.35it/s]                                                                                           \n",
      "Current loss: 0.0021: : 29it [00:00, 42.58it/s]                                                                    \n"
     ]
    },
    {
     "name": "stdout",
     "output_type": "stream",
     "text": [
      "VALIDATION FINISHED: LOSS: 0.0020746680961094854\n",
      "MODEL IMPROVED ON VALIDATION SET!\n",
      "Saving model...\n",
      "Training one epoch from iteration 19836\n"
     ]
    },
    {
     "name": "stderr",
     "output_type": "stream",
     "text": [
      "114it [00:05, 22.23it/s]                                                                                           \n",
      "Current loss: 0.0024: : 29it [00:00, 42.90it/s]                                                                    \n"
     ]
    },
    {
     "name": "stdout",
     "output_type": "stream",
     "text": [
      "VALIDATION FINISHED: LOSS: 0.0023961324046028708\n",
      "Removing old file /home/aarbuzov/work-and-study/git/Wave-U-Net-Pytorch/checkpoints/checkpoint_19836\n",
      "Saving model...\n",
      "Training one epoch from iteration 19950\n"
     ]
    },
    {
     "name": "stderr",
     "output_type": "stream",
     "text": [
      "114it [00:05, 22.45it/s]                                                                                           \n",
      "Current loss: 0.0024: : 29it [00:00, 43.01it/s]                                                                    \n"
     ]
    },
    {
     "name": "stdout",
     "output_type": "stream",
     "text": [
      "VALIDATION FINISHED: LOSS: 0.002365787264666167\n",
      "Saving model...\n",
      "Training one epoch from iteration 20064\n"
     ]
    },
    {
     "name": "stderr",
     "output_type": "stream",
     "text": [
      "114it [00:05, 22.18it/s]                                                                                           \n",
      "Current loss: 0.0021: : 29it [00:00, 43.23it/s]                                                                    \n"
     ]
    },
    {
     "name": "stdout",
     "output_type": "stream",
     "text": [
      "VALIDATION FINISHED: LOSS: 0.0020867167221350147\n",
      "Saving model...\n",
      "Training one epoch from iteration 20178\n"
     ]
    },
    {
     "name": "stderr",
     "output_type": "stream",
     "text": [
      "114it [00:05, 22.45it/s]                                                                                           \n",
      "Current loss: 0.0021: : 29it [00:00, 42.88it/s]                                                                    \n"
     ]
    },
    {
     "name": "stdout",
     "output_type": "stream",
     "text": [
      "VALIDATION FINISHED: LOSS: 0.002103736812042088\n",
      "Saving model...\n",
      "Training one epoch from iteration 20292\n"
     ]
    },
    {
     "name": "stderr",
     "output_type": "stream",
     "text": [
      "114it [00:05, 22.17it/s]                                                                                           \n",
      "Current loss: 0.0021: : 29it [00:00, 42.99it/s]                                                                    \n"
     ]
    },
    {
     "name": "stdout",
     "output_type": "stream",
     "text": [
      "VALIDATION FINISHED: LOSS: 0.0020919130419597737\n",
      "Saving model...\n",
      "Training one epoch from iteration 20406\n"
     ]
    },
    {
     "name": "stderr",
     "output_type": "stream",
     "text": [
      "114it [00:05, 22.44it/s]                                                                                           \n",
      "Current loss: 0.0021: : 29it [00:00, 43.01it/s]                                                                    \n"
     ]
    },
    {
     "name": "stdout",
     "output_type": "stream",
     "text": [
      "VALIDATION FINISHED: LOSS: 0.00209054573873612\n",
      "Saving model...\n",
      "Training one epoch from iteration 20520\n"
     ]
    },
    {
     "name": "stderr",
     "output_type": "stream",
     "text": [
      "114it [00:05, 22.22it/s]                                                                                           \n",
      "Current loss: 0.0025:  18%|██████████▏                                              | 5/28 [00:00<00:00, 28.06it/s]"
     ]
    }
   ],
   "source": [
    "# args.dataset_dir\n",
    "main(args)\n",
    "print(\"done training\")"
   ]
  },
  {
   "cell_type": "code",
   "execution_count": null,
   "id": "f6e4fa04-2797-422f-b82d-2d1a5a8ddab5",
   "metadata": {},
   "outputs": [],
   "source": []
  }
 ],
 "metadata": {
  "kernelspec": {
   "display_name": "Python 3 (ipykernel)",
   "language": "python",
   "name": "python3"
  },
  "language_info": {
   "codemirror_mode": {
    "name": "ipython",
    "version": 3
   },
   "file_extension": ".py",
   "mimetype": "text/x-python",
   "name": "python",
   "nbconvert_exporter": "python",
   "pygments_lexer": "ipython3",
   "version": "3.10.9"
  }
 },
 "nbformat": 4,
 "nbformat_minor": 5
}
